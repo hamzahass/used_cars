{
 "cells": [
  {
   "cell_type": "markdown",
   "id": "971ebc4c-980d-4c05-86b4-7b64a4f9a6a6",
   "metadata": {},
   "source": [
    "# Prédiction des prix de voitures d'occasion"
   ]
  },
  {
   "cell_type": "markdown",
   "id": "efc72d7c-b014-4d43-9684-95cabd38e694",
   "metadata": {},
   "source": [
    "### Import des librairies"
   ]
  },
  {
   "cell_type": "code",
   "execution_count": 250,
   "id": "8564be21-f0e8-49e4-b67b-c3c7c16c9c1f",
   "metadata": {},
   "outputs": [],
   "source": [
    "import pandas as pd\n",
    "import matplotlib.pyplot as plt\n",
    "import seaborn as sns\n",
    "import numpy as np"
   ]
  },
  {
   "cell_type": "code",
   "execution_count": 251,
   "id": "6f4e2d91-d89b-49aa-9985-c7b440a7e7df",
   "metadata": {},
   "outputs": [],
   "source": [
    "DATA_FOLDER = 'data-society-used-cars-data/data/'\n",
    "\n",
    "data = pd.read_csv(DATA_FOLDER+'autos.csv')"
   ]
  },
  {
   "cell_type": "code",
   "execution_count": 252,
   "id": "49900039-e5ee-48e7-a5ac-4d83b66070b0",
   "metadata": {},
   "outputs": [
    {
     "data": {
      "text/html": [
       "<div>\n",
       "<style scoped>\n",
       "    .dataframe tbody tr th:only-of-type {\n",
       "        vertical-align: middle;\n",
       "    }\n",
       "\n",
       "    .dataframe tbody tr th {\n",
       "        vertical-align: top;\n",
       "    }\n",
       "\n",
       "    .dataframe thead th {\n",
       "        text-align: right;\n",
       "    }\n",
       "</style>\n",
       "<table border=\"1\" class=\"dataframe\">\n",
       "  <thead>\n",
       "    <tr style=\"text-align: right;\">\n",
       "      <th></th>\n",
       "      <th>datecrawled</th>\n",
       "      <th>name</th>\n",
       "      <th>seller</th>\n",
       "      <th>offertype</th>\n",
       "      <th>price</th>\n",
       "      <th>abtest</th>\n",
       "      <th>vehicletype</th>\n",
       "      <th>yearofregistration</th>\n",
       "      <th>gearbox</th>\n",
       "      <th>powerps</th>\n",
       "      <th>model</th>\n",
       "      <th>kilometer</th>\n",
       "      <th>monthofregistration</th>\n",
       "      <th>fueltype</th>\n",
       "      <th>brand</th>\n",
       "      <th>notrepaireddamage</th>\n",
       "      <th>datecreated</th>\n",
       "      <th>nrofpictures</th>\n",
       "      <th>postalcode</th>\n",
       "      <th>lastseen</th>\n",
       "    </tr>\n",
       "  </thead>\n",
       "  <tbody>\n",
       "    <tr>\n",
       "      <th>0</th>\n",
       "      <td>2016-03-24T11:52:17</td>\n",
       "      <td>Golf_3_1.6</td>\n",
       "      <td>privat</td>\n",
       "      <td>Angebot</td>\n",
       "      <td>480</td>\n",
       "      <td>test</td>\n",
       "      <td>NaN</td>\n",
       "      <td>1993</td>\n",
       "      <td>manuell</td>\n",
       "      <td>0</td>\n",
       "      <td>golf</td>\n",
       "      <td>150000</td>\n",
       "      <td>0</td>\n",
       "      <td>benzin</td>\n",
       "      <td>volkswagen</td>\n",
       "      <td>NaN</td>\n",
       "      <td>2016-03-24T00:00:00</td>\n",
       "      <td>False</td>\n",
       "      <td>70435</td>\n",
       "      <td>2016-04-07T03:16:57</td>\n",
       "    </tr>\n",
       "    <tr>\n",
       "      <th>1</th>\n",
       "      <td>2016-03-24T10:58:45</td>\n",
       "      <td>A5_Sportback_2.7_Tdi</td>\n",
       "      <td>privat</td>\n",
       "      <td>Angebot</td>\n",
       "      <td>18300</td>\n",
       "      <td>test</td>\n",
       "      <td>coupe</td>\n",
       "      <td>2011</td>\n",
       "      <td>manuell</td>\n",
       "      <td>190</td>\n",
       "      <td>NaN</td>\n",
       "      <td>125000</td>\n",
       "      <td>5</td>\n",
       "      <td>diesel</td>\n",
       "      <td>audi</td>\n",
       "      <td>ja</td>\n",
       "      <td>2016-03-24T00:00:00</td>\n",
       "      <td>False</td>\n",
       "      <td>66954</td>\n",
       "      <td>2016-04-07T01:46:50</td>\n",
       "    </tr>\n",
       "    <tr>\n",
       "      <th>2</th>\n",
       "      <td>2016-03-14T12:52:21</td>\n",
       "      <td>Jeep_Grand_Cherokee_\"Overland\"</td>\n",
       "      <td>privat</td>\n",
       "      <td>Angebot</td>\n",
       "      <td>9800</td>\n",
       "      <td>test</td>\n",
       "      <td>suv</td>\n",
       "      <td>2004</td>\n",
       "      <td>automatik</td>\n",
       "      <td>163</td>\n",
       "      <td>grand</td>\n",
       "      <td>125000</td>\n",
       "      <td>8</td>\n",
       "      <td>diesel</td>\n",
       "      <td>jeep</td>\n",
       "      <td>NaN</td>\n",
       "      <td>2016-03-14T00:00:00</td>\n",
       "      <td>False</td>\n",
       "      <td>90480</td>\n",
       "      <td>2016-04-05T12:47:46</td>\n",
       "    </tr>\n",
       "    <tr>\n",
       "      <th>3</th>\n",
       "      <td>2016-03-17T16:54:04</td>\n",
       "      <td>GOLF_4_1_4__3TÜRER</td>\n",
       "      <td>privat</td>\n",
       "      <td>Angebot</td>\n",
       "      <td>1500</td>\n",
       "      <td>test</td>\n",
       "      <td>kleinwagen</td>\n",
       "      <td>2001</td>\n",
       "      <td>manuell</td>\n",
       "      <td>75</td>\n",
       "      <td>golf</td>\n",
       "      <td>150000</td>\n",
       "      <td>6</td>\n",
       "      <td>benzin</td>\n",
       "      <td>volkswagen</td>\n",
       "      <td>nein</td>\n",
       "      <td>2016-03-17T00:00:00</td>\n",
       "      <td>False</td>\n",
       "      <td>91074</td>\n",
       "      <td>2016-03-17T17:40:17</td>\n",
       "    </tr>\n",
       "    <tr>\n",
       "      <th>4</th>\n",
       "      <td>2016-03-31T17:25:20</td>\n",
       "      <td>Skoda_Fabia_1.4_TDI_PD_Classic</td>\n",
       "      <td>privat</td>\n",
       "      <td>Angebot</td>\n",
       "      <td>3600</td>\n",
       "      <td>test</td>\n",
       "      <td>kleinwagen</td>\n",
       "      <td>2008</td>\n",
       "      <td>manuell</td>\n",
       "      <td>69</td>\n",
       "      <td>fabia</td>\n",
       "      <td>90000</td>\n",
       "      <td>7</td>\n",
       "      <td>diesel</td>\n",
       "      <td>skoda</td>\n",
       "      <td>nein</td>\n",
       "      <td>2016-03-31T00:00:00</td>\n",
       "      <td>False</td>\n",
       "      <td>60437</td>\n",
       "      <td>2016-04-06T10:17:21</td>\n",
       "    </tr>\n",
       "  </tbody>\n",
       "</table>\n",
       "</div>"
      ],
      "text/plain": [
       "           datecrawled                            name  seller offertype  \\\n",
       "0  2016-03-24T11:52:17                      Golf_3_1.6  privat   Angebot   \n",
       "1  2016-03-24T10:58:45            A5_Sportback_2.7_Tdi  privat   Angebot   \n",
       "2  2016-03-14T12:52:21  Jeep_Grand_Cherokee_\"Overland\"  privat   Angebot   \n",
       "3  2016-03-17T16:54:04              GOLF_4_1_4__3TÜRER  privat   Angebot   \n",
       "4  2016-03-31T17:25:20  Skoda_Fabia_1.4_TDI_PD_Classic  privat   Angebot   \n",
       "\n",
       "   price abtest vehicletype  yearofregistration    gearbox  powerps  model  \\\n",
       "0    480   test         NaN                1993    manuell        0   golf   \n",
       "1  18300   test       coupe                2011    manuell      190    NaN   \n",
       "2   9800   test         suv                2004  automatik      163  grand   \n",
       "3   1500   test  kleinwagen                2001    manuell       75   golf   \n",
       "4   3600   test  kleinwagen                2008    manuell       69  fabia   \n",
       "\n",
       "   kilometer  monthofregistration fueltype       brand notrepaireddamage  \\\n",
       "0     150000                    0   benzin  volkswagen               NaN   \n",
       "1     125000                    5   diesel        audi                ja   \n",
       "2     125000                    8   diesel        jeep               NaN   \n",
       "3     150000                    6   benzin  volkswagen              nein   \n",
       "4      90000                    7   diesel       skoda              nein   \n",
       "\n",
       "           datecreated  nrofpictures  postalcode             lastseen  \n",
       "0  2016-03-24T00:00:00         False       70435  2016-04-07T03:16:57  \n",
       "1  2016-03-24T00:00:00         False       66954  2016-04-07T01:46:50  \n",
       "2  2016-03-14T00:00:00         False       90480  2016-04-05T12:47:46  \n",
       "3  2016-03-17T00:00:00         False       91074  2016-03-17T17:40:17  \n",
       "4  2016-03-31T00:00:00         False       60437  2016-04-06T10:17:21  "
      ]
     },
     "execution_count": 252,
     "metadata": {},
     "output_type": "execute_result"
    }
   ],
   "source": [
    "data.head()"
   ]
  },
  {
   "cell_type": "markdown",
   "id": "6560b8d6-293a-40ba-9c0c-401ec0314650",
   "metadata": {},
   "source": [
    "On observe dans un premier temps que certaines variables sont en Allemand, nous commonçons donc par traduire ces champs."
   ]
  },
  {
   "cell_type": "code",
   "execution_count": 253,
   "id": "80c88746-db77-4b19-8002-80f720115a5d",
   "metadata": {},
   "outputs": [],
   "source": [
    "# Traduction de l'Allemand vers le Français \n",
    "from translate import Translator\n",
    "\n",
    "translator = Translator(from_lang=\"german\",to_lang=\"french\")\n",
    "\n",
    "def translate(translator, s):\n",
    "    if s is None:\n",
    "        return None\n",
    "    return translator.translate(s)"
   ]
  },
  {
   "cell_type": "code",
   "execution_count": 254,
   "id": "d2942739-f9ea-4d07-9df4-1b79fbc543fe",
   "metadata": {
    "tags": []
   },
   "outputs": [],
   "source": [
    "data['offertype'] = data['offertype'].apply(lambda s : translate(translator, s))\n",
    "data['seller'] = data['seller'].apply(lambda s : translate(translator, s))\n",
    "data['gearbox'] = data['gearbox'].apply(lambda s : translate(translator, s))\n",
    "data['vehicletype'] = data['vehicletype'].apply(lambda s : translate(translator, s))\n",
    "data['fueltype'] = data['fueltype'].apply(lambda s : translate(translator, s))\n",
    "data['notrepaireddamage'] = data['notrepaireddamage'].apply(lambda s : translate(translator, s))"
   ]
  },
  {
   "cell_type": "code",
   "execution_count": 255,
   "id": "4c570137-e594-43dd-b3b8-4461262ad012",
   "metadata": {},
   "outputs": [
    {
     "data": {
      "text/html": [
       "<div>\n",
       "<style scoped>\n",
       "    .dataframe tbody tr th:only-of-type {\n",
       "        vertical-align: middle;\n",
       "    }\n",
       "\n",
       "    .dataframe tbody tr th {\n",
       "        vertical-align: top;\n",
       "    }\n",
       "\n",
       "    .dataframe thead th {\n",
       "        text-align: right;\n",
       "    }\n",
       "</style>\n",
       "<table border=\"1\" class=\"dataframe\">\n",
       "  <thead>\n",
       "    <tr style=\"text-align: right;\">\n",
       "      <th></th>\n",
       "      <th>datecrawled</th>\n",
       "      <th>name</th>\n",
       "      <th>seller</th>\n",
       "      <th>offertype</th>\n",
       "      <th>price</th>\n",
       "      <th>abtest</th>\n",
       "      <th>vehicletype</th>\n",
       "      <th>yearofregistration</th>\n",
       "      <th>gearbox</th>\n",
       "      <th>powerps</th>\n",
       "      <th>model</th>\n",
       "      <th>kilometer</th>\n",
       "      <th>monthofregistration</th>\n",
       "      <th>fueltype</th>\n",
       "      <th>brand</th>\n",
       "      <th>notrepaireddamage</th>\n",
       "      <th>datecreated</th>\n",
       "      <th>nrofpictures</th>\n",
       "      <th>postalcode</th>\n",
       "      <th>lastseen</th>\n",
       "    </tr>\n",
       "  </thead>\n",
       "  <tbody>\n",
       "    <tr>\n",
       "      <th>0</th>\n",
       "      <td>2016-03-24T11:52:17</td>\n",
       "      <td>Golf_3_1.6</td>\n",
       "      <td>Privé</td>\n",
       "      <td>Offre</td>\n",
       "      <td>480</td>\n",
       "      <td>test</td>\n",
       "      <td>None</td>\n",
       "      <td>1993</td>\n",
       "      <td>manuelle</td>\n",
       "      <td>0</td>\n",
       "      <td>golf</td>\n",
       "      <td>150000</td>\n",
       "      <td>0</td>\n",
       "      <td>ESSENCE</td>\n",
       "      <td>volkswagen</td>\n",
       "      <td>None</td>\n",
       "      <td>2016-03-24T00:00:00</td>\n",
       "      <td>False</td>\n",
       "      <td>70435</td>\n",
       "      <td>2016-04-07T03:16:57</td>\n",
       "    </tr>\n",
       "    <tr>\n",
       "      <th>1</th>\n",
       "      <td>2016-03-24T10:58:45</td>\n",
       "      <td>A5_Sportback_2.7_Tdi</td>\n",
       "      <td>Privé</td>\n",
       "      <td>Offre</td>\n",
       "      <td>18300</td>\n",
       "      <td>test</td>\n",
       "      <td>COUPE</td>\n",
       "      <td>2011</td>\n",
       "      <td>manuelle</td>\n",
       "      <td>190</td>\n",
       "      <td>NaN</td>\n",
       "      <td>125000</td>\n",
       "      <td>5</td>\n",
       "      <td>Diesel</td>\n",
       "      <td>audi</td>\n",
       "      <td>oui</td>\n",
       "      <td>2016-03-24T00:00:00</td>\n",
       "      <td>False</td>\n",
       "      <td>66954</td>\n",
       "      <td>2016-04-07T01:46:50</td>\n",
       "    </tr>\n",
       "    <tr>\n",
       "      <th>2</th>\n",
       "      <td>2016-03-14T12:52:21</td>\n",
       "      <td>Jeep_Grand_Cherokee_\"Overland\"</td>\n",
       "      <td>Privé</td>\n",
       "      <td>Offre</td>\n",
       "      <td>9800</td>\n",
       "      <td>test</td>\n",
       "      <td>SUV</td>\n",
       "      <td>2004</td>\n",
       "      <td>Automatique</td>\n",
       "      <td>163</td>\n",
       "      <td>grand</td>\n",
       "      <td>125000</td>\n",
       "      <td>8</td>\n",
       "      <td>Diesel</td>\n",
       "      <td>jeep</td>\n",
       "      <td>None</td>\n",
       "      <td>2016-03-14T00:00:00</td>\n",
       "      <td>False</td>\n",
       "      <td>90480</td>\n",
       "      <td>2016-04-05T12:47:46</td>\n",
       "    </tr>\n",
       "    <tr>\n",
       "      <th>3</th>\n",
       "      <td>2016-03-17T16:54:04</td>\n",
       "      <td>GOLF_4_1_4__3TÜRER</td>\n",
       "      <td>Privé</td>\n",
       "      <td>Offre</td>\n",
       "      <td>1500</td>\n",
       "      <td>test</td>\n",
       "      <td>citadine</td>\n",
       "      <td>2001</td>\n",
       "      <td>manuelle</td>\n",
       "      <td>75</td>\n",
       "      <td>golf</td>\n",
       "      <td>150000</td>\n",
       "      <td>6</td>\n",
       "      <td>ESSENCE</td>\n",
       "      <td>volkswagen</td>\n",
       "      <td>non</td>\n",
       "      <td>2016-03-17T00:00:00</td>\n",
       "      <td>False</td>\n",
       "      <td>91074</td>\n",
       "      <td>2016-03-17T17:40:17</td>\n",
       "    </tr>\n",
       "    <tr>\n",
       "      <th>4</th>\n",
       "      <td>2016-03-31T17:25:20</td>\n",
       "      <td>Skoda_Fabia_1.4_TDI_PD_Classic</td>\n",
       "      <td>Privé</td>\n",
       "      <td>Offre</td>\n",
       "      <td>3600</td>\n",
       "      <td>test</td>\n",
       "      <td>citadine</td>\n",
       "      <td>2008</td>\n",
       "      <td>manuelle</td>\n",
       "      <td>69</td>\n",
       "      <td>fabia</td>\n",
       "      <td>90000</td>\n",
       "      <td>7</td>\n",
       "      <td>Diesel</td>\n",
       "      <td>skoda</td>\n",
       "      <td>non</td>\n",
       "      <td>2016-03-31T00:00:00</td>\n",
       "      <td>False</td>\n",
       "      <td>60437</td>\n",
       "      <td>2016-04-06T10:17:21</td>\n",
       "    </tr>\n",
       "  </tbody>\n",
       "</table>\n",
       "</div>"
      ],
      "text/plain": [
       "           datecrawled                            name seller offertype  \\\n",
       "0  2016-03-24T11:52:17                      Golf_3_1.6  Privé     Offre   \n",
       "1  2016-03-24T10:58:45            A5_Sportback_2.7_Tdi  Privé     Offre   \n",
       "2  2016-03-14T12:52:21  Jeep_Grand_Cherokee_\"Overland\"  Privé     Offre   \n",
       "3  2016-03-17T16:54:04              GOLF_4_1_4__3TÜRER  Privé     Offre   \n",
       "4  2016-03-31T17:25:20  Skoda_Fabia_1.4_TDI_PD_Classic  Privé     Offre   \n",
       "\n",
       "   price abtest vehicletype  yearofregistration      gearbox  powerps  model  \\\n",
       "0    480   test        None                1993     manuelle        0   golf   \n",
       "1  18300   test       COUPE                2011     manuelle      190    NaN   \n",
       "2   9800   test         SUV                2004  Automatique      163  grand   \n",
       "3   1500   test    citadine                2001     manuelle       75   golf   \n",
       "4   3600   test    citadine                2008     manuelle       69  fabia   \n",
       "\n",
       "   kilometer  monthofregistration fueltype       brand notrepaireddamage  \\\n",
       "0     150000                    0  ESSENCE  volkswagen              None   \n",
       "1     125000                    5   Diesel        audi               oui   \n",
       "2     125000                    8   Diesel        jeep              None   \n",
       "3     150000                    6  ESSENCE  volkswagen               non   \n",
       "4      90000                    7   Diesel       skoda               non   \n",
       "\n",
       "           datecreated  nrofpictures  postalcode             lastseen  \n",
       "0  2016-03-24T00:00:00         False       70435  2016-04-07T03:16:57  \n",
       "1  2016-03-24T00:00:00         False       66954  2016-04-07T01:46:50  \n",
       "2  2016-03-14T00:00:00         False       90480  2016-04-05T12:47:46  \n",
       "3  2016-03-17T00:00:00         False       91074  2016-03-17T17:40:17  \n",
       "4  2016-03-31T00:00:00         False       60437  2016-04-06T10:17:21  "
      ]
     },
     "execution_count": 255,
     "metadata": {},
     "output_type": "execute_result"
    }
   ],
   "source": [
    "data.head()"
   ]
  },
  {
   "cell_type": "code",
   "execution_count": 256,
   "id": "8721a47f-b72d-4d95-9ec2-6a091459dde5",
   "metadata": {},
   "outputs": [
    {
     "name": "stdout",
     "output_type": "stream",
     "text": [
      "<class 'pandas.core.frame.DataFrame'>\n",
      "RangeIndex: 371528 entries, 0 to 371527\n",
      "Data columns (total 20 columns):\n",
      " #   Column               Non-Null Count   Dtype \n",
      "---  ------               --------------   ----- \n",
      " 0   datecrawled          371528 non-null  object\n",
      " 1   name                 371528 non-null  object\n",
      " 2   seller               371528 non-null  object\n",
      " 3   offertype            371528 non-null  object\n",
      " 4   price                371528 non-null  int64 \n",
      " 5   abtest               371528 non-null  object\n",
      " 6   vehicletype          330302 non-null  object\n",
      " 7   yearofregistration   371528 non-null  int64 \n",
      " 8   gearbox              351319 non-null  object\n",
      " 9   powerps              371528 non-null  int64 \n",
      " 10  model                351044 non-null  object\n",
      " 11  kilometer            371528 non-null  int64 \n",
      " 12  monthofregistration  371528 non-null  int64 \n",
      " 13  fueltype             338142 non-null  object\n",
      " 14  brand                371528 non-null  object\n",
      " 15  notrepaireddamage    299468 non-null  object\n",
      " 16  datecreated          371528 non-null  object\n",
      " 17  nrofpictures         371528 non-null  bool  \n",
      " 18  postalcode           371528 non-null  int64 \n",
      " 19  lastseen             371528 non-null  object\n",
      "dtypes: bool(1), int64(6), object(13)\n",
      "memory usage: 54.2+ MB\n"
     ]
    }
   ],
   "source": [
    "# Informations concernant les champs de données (type de données, valeurs nulles)\n",
    "data.info()"
   ]
  },
  {
   "cell_type": "markdown",
   "id": "7e0a96ec-c7fd-4eb0-9d29-96d266c67721",
   "metadata": {},
   "source": [
    "Pour les variables datecrawled et lastseen, nous ne pouvons pas les utiliser directement dans notre analyse (à cause de leur type). Cependant il serait intéressant de considérer la relation entre les deux pour determiner combien de temps une voiture reste en ligne avant d'être vendue. Il est également important de noter que nous avons choisi datecrawled au lieu de datecreated, car c'est à partir du moment ou l'annonce est crawled qu'elle peut-être visible pour les visiteurs."
   ]
  },
  {
   "cell_type": "code",
   "execution_count": 257,
   "id": "03c1df85-3d49-42e2-b773-624f6771a424",
   "metadata": {},
   "outputs": [],
   "source": [
    "from datetime import datetime\n",
    "\n",
    "# Temps en secondes\n",
    "data['time_online'] = data['lastseen'].apply(lambda s : datetime.strptime(s, '%Y-%m-%dT%H:%M:%S')) - data['datecrawled'].apply(lambda s : datetime.strptime(s, '%Y-%m-%dT%H:%M:%S'))\n",
    "data['time_online'] = data['time_online'].apply(lambda x : x.total_seconds())"
   ]
  },
  {
   "cell_type": "markdown",
   "id": "c75cf705-8fb7-4b4e-a4a6-89e0f0b89440",
   "metadata": {},
   "source": [
    "De plus il serait intéressant d'ajouter le mois et l'année durant lesquels l'annonce a été publiée."
   ]
  },
  {
   "cell_type": "code",
   "execution_count": 258,
   "id": "dffecb38-d0d6-44e6-9f1f-813f77dcd055",
   "metadata": {},
   "outputs": [],
   "source": [
    "data['year_published'] = data['datecreated'].apply(lambda s : datetime.strptime(s, '%Y-%m-%dT%H:%M:%S').year)\n",
    "data['month_published'] = data['datecreated'].apply(lambda s : datetime.strptime(s, '%Y-%m-%dT%H:%M:%S').month)"
   ]
  },
  {
   "cell_type": "markdown",
   "id": "29465c8b-5441-48fa-87fa-3cb348ce2d4c",
   "metadata": {},
   "source": [
    "Nous n'avons ainsi plus besoin des variables datecrawled, lastseen ainsi que datecreated"
   ]
  },
  {
   "cell_type": "code",
   "execution_count": 349,
   "id": "77270429-050c-42d9-a7ac-e4c93f3c742e",
   "metadata": {
    "tags": []
   },
   "outputs": [],
   "source": [
    "df = data.drop(columns=['datecrawled', 'lastseen', 'datecreated'])"
   ]
  },
  {
   "cell_type": "markdown",
   "id": "702bd1e1-c0f1-443c-812c-1829d2c10310",
   "metadata": {
    "tags": []
   },
   "source": [
    "### Champs à données manquantes et stratégie d'imputation"
   ]
  },
  {
   "cell_type": "code",
   "execution_count": 261,
   "id": "f1f64753-a748-480c-af34-835bd960ca71",
   "metadata": {},
   "outputs": [
    {
     "data": {
      "text/plain": [
       "name                       0\n",
       "seller                     0\n",
       "offertype                  0\n",
       "price                      0\n",
       "abtest                     0\n",
       "vehicletype            41226\n",
       "yearofregistration         0\n",
       "gearbox                20209\n",
       "powerps                    0\n",
       "model                  20484\n",
       "kilometer                  0\n",
       "monthofregistration        0\n",
       "fueltype               33386\n",
       "brand                      0\n",
       "notrepaireddamage      72060\n",
       "nrofpictures               0\n",
       "postalcode                 0\n",
       "time_online                0\n",
       "year_published             0\n",
       "month_published            0\n",
       "dtype: int64"
      ]
     },
     "execution_count": 261,
     "metadata": {},
     "output_type": "execute_result"
    }
   ],
   "source": [
    "# Informations concernant les données manquantes pour chaque champs\n",
    "df.isnull().sum()"
   ]
  },
  {
   "cell_type": "code",
   "execution_count": 137,
   "id": "7e870a73-86ef-4f23-a321-ee37b2333269",
   "metadata": {},
   "outputs": [
    {
     "data": {
      "text/plain": [
       "<AxesSubplot: >"
      ]
     },
     "execution_count": 137,
     "metadata": {},
     "output_type": "execute_result"
    },
    {
     "data": {
      "image/png": "[encoded data removed]",
      "text/plain": [
       "<Figure size 640x480 with 1 Axes>"
      ]
     },
     "metadata": {},
     "output_type": "display_data"
    }
   ],
   "source": [
    "# Heatmap des valeurs manquantes\n",
    "sns.heatmap(df.isnull(), cmap='viridis', cbar=False)"
   ]
  },
  {
   "cell_type": "markdown",
   "id": "ec9f778a-0cb6-4489-b6b9-2f115b1cbc61",
   "metadata": {},
   "source": [
    "#### On observe que les champs suivants ont des données manquantes :\n",
    "- vehicletype\n",
    "- gearbox\n",
    "- model\n",
    "- fueltype\n",
    "- notrepaireddamage\n",
    "\n",
    "Tous ces champs sont catégorielles."
   ]
  },
  {
   "cell_type": "markdown",
   "id": "8370675b-06e2-4395-bbed-5ddee4066e3c",
   "metadata": {},
   "source": [
    "Calculons le pourcentage de données manquantes pour chaque variable"
   ]
  },
  {
   "cell_type": "code",
   "execution_count": 262,
   "id": "0e2cc490-3880-40bc-addf-bc93ee3601b6",
   "metadata": {},
   "outputs": [
    {
     "name": "stdout",
     "output_type": "stream",
     "text": [
      "Le pourcentage de données manquantes pour vehicletype est :  11.096337288172089\n",
      "Le pourcentage de données manquantes pour gearbox est :  5.439428522210978\n",
      "Le pourcentage de données manquantes pour fueltype est :  8.986132942873754\n",
      "Le pourcentage de données manquantes pour model est :  5.513447169526926\n",
      "Le pourcentage de données manquantes pour notrepaireddamage est :  19.395577183953833\n"
     ]
    }
   ],
   "source": [
    "print('Le pourcentage de données manquantes pour vehicletype est : ', (df['vehicletype'].isnull().sum() / len(data)) * 100)\n",
    "print('Le pourcentage de données manquantes pour gearbox est : ', (df['gearbox'].isnull().sum() / len(data)) * 100)\n",
    "print('Le pourcentage de données manquantes pour fueltype est : ', (df['fueltype'].isnull().sum() / len(data)) * 100)\n",
    "print('Le pourcentage de données manquantes pour model est : ', (df['model'].isnull().sum() / len(data)) * 100)\n",
    "print('Le pourcentage de données manquantes pour notrepaireddamage est : ', (df['notrepaireddamage'].isnull().sum() / len(data)) * 100)"
   ]
  },
  {
   "cell_type": "markdown",
   "id": "a69afdb0-55b6-4a7e-a1f1-33e02ceceaae",
   "metadata": {
    "tags": []
   },
   "source": [
    "On observe que pour vehicletype, gearbox, fueltype et model, il y a moins de 10.2% de données manquantes, ce qui n'est pas élevé. Cependant il serait intéressant d'étudier la distribution de la variable not repaired dammage avant de choisir une stratégie d'imputation."
   ]
  },
  {
   "cell_type": "code",
   "execution_count": 139,
   "id": "3cd3cb74-7a35-4b4b-85bf-88a7cd2cb55f",
   "metadata": {},
   "outputs": [
    {
     "data": {
      "image/png": "[encoded data removed]",
      "text/plain": [
       "<Figure size 640x480 with 1 Axes>"
      ]
     },
     "metadata": {},
     "output_type": "display_data"
    }
   ],
   "source": [
    "df['notrepaireddamage'].value_counts().plot(kind='bar', edgecolor='k')\n",
    "plt.xticks(rotation=90)\n",
    "plt.ylabel('Frequency')\n",
    "plt.xlabel('not repaid damage')\n",
    "plt.tight_layout()"
   ]
  },
  {
   "cell_type": "code",
   "execution_count": 140,
   "id": "e95f603d-f50a-42d8-b61e-9e8a31b49259",
   "metadata": {},
   "outputs": [
    {
     "data": {
      "text/plain": [
       "non    0.708377\n",
       "oui    0.097667\n",
       "Name: notrepaireddamage, dtype: float64"
      ]
     },
     "execution_count": 140,
     "metadata": {},
     "output_type": "execute_result"
    }
   ],
   "source": [
    "# Pourcentage de oui et de non pour la variable not repaired dammage\n",
    "df['notrepaireddamage'].value_counts()/len(df)"
   ]
  },
  {
   "cell_type": "markdown",
   "id": "f238209d-3881-44b0-acee-5bfc4eaa3ab8",
   "metadata": {},
   "source": [
    "On remarque que pour cette variable 70% des données corresponde à oui et seulement un peu moins de 10% à non."
   ]
  },
  {
   "cell_type": "markdown",
   "id": "ac65e17e-bbe5-4aca-a979-d797b10b3184",
   "metadata": {},
   "source": [
    "Concernant les stratégies d'imputation, les données étant catégorielles, nous pouvons soit supprimer ces lignes (ce qui est une mauvaise décision car on perd des données), soit imputer avec la valeur la plus fréquente de chaque champs, ou encore utiliser des techniques plus avancées comme l'imputation à travers l'algorithme K-nn.\n",
    "\n",
    "Les données manquantes étant pas très fréquente, nous optons pour la seconde option, étant d'imputer avec la valeur la plus fréquente de chaque champ."
   ]
  },
  {
   "cell_type": "code",
   "execution_count": 350,
   "id": "1c1fb179-1a7e-41bf-858f-e2536fef5d75",
   "metadata": {},
   "outputs": [],
   "source": [
    "impute_vars = ['vehicletype', 'gearbox', 'model', 'fueltype', 'notrepaireddamage']\n",
    "\n",
    "for feature in impute_vars:\n",
    "    most_frequent_value = df[feature].mode()[0]\n",
    "    df[feature].fillna(most_frequent_value, inplace=True)"
   ]
  },
  {
   "cell_type": "code",
   "execution_count": 264,
   "id": "f926e7f1-3b97-4de4-81d7-8c90e077922f",
   "metadata": {},
   "outputs": [
    {
     "data": {
      "text/plain": [
       "name                   0\n",
       "seller                 0\n",
       "offertype              0\n",
       "price                  0\n",
       "abtest                 0\n",
       "vehicletype            0\n",
       "yearofregistration     0\n",
       "gearbox                0\n",
       "powerps                0\n",
       "model                  0\n",
       "kilometer              0\n",
       "monthofregistration    0\n",
       "fueltype               0\n",
       "brand                  0\n",
       "notrepaireddamage      0\n",
       "nrofpictures           0\n",
       "postalcode             0\n",
       "time_online            0\n",
       "year_published         0\n",
       "month_published        0\n",
       "dtype: int64"
      ]
     },
     "execution_count": 264,
     "metadata": {},
     "output_type": "execute_result"
    }
   ],
   "source": [
    "# Informations concernant les données manquantes pour chaque champs\n",
    "df.isnull().sum()"
   ]
  },
  {
   "cell_type": "markdown",
   "id": "ace02d12-ce8d-4811-b3c2-cb95e329c587",
   "metadata": {},
   "source": [
    "#### Valeurs extrêmes des variables"
   ]
  },
  {
   "cell_type": "code",
   "execution_count": 181,
   "id": "5af63de6-8302-4d08-8b6f-d045b31c8d73",
   "metadata": {},
   "outputs": [
    {
     "data": {
      "text/html": [
       "<div>\n",
       "<style scoped>\n",
       "    .dataframe tbody tr th:only-of-type {\n",
       "        vertical-align: middle;\n",
       "    }\n",
       "\n",
       "    .dataframe tbody tr th {\n",
       "        vertical-align: top;\n",
       "    }\n",
       "\n",
       "    .dataframe thead th {\n",
       "        text-align: right;\n",
       "    }\n",
       "</style>\n",
       "<table border=\"1\" class=\"dataframe\">\n",
       "  <thead>\n",
       "    <tr style=\"text-align: right;\">\n",
       "      <th></th>\n",
       "      <th>price</th>\n",
       "      <th>yearofregistration</th>\n",
       "      <th>powerps</th>\n",
       "      <th>kilometer</th>\n",
       "      <th>monthofregistration</th>\n",
       "      <th>postalcode</th>\n",
       "      <th>time_online</th>\n",
       "      <th>year_published</th>\n",
       "      <th>month_published</th>\n",
       "    </tr>\n",
       "  </thead>\n",
       "  <tbody>\n",
       "    <tr>\n",
       "      <th>count</th>\n",
       "      <td>3.715280e+05</td>\n",
       "      <td>371528.000000</td>\n",
       "      <td>371528.000000</td>\n",
       "      <td>371528.000000</td>\n",
       "      <td>371528.000000</td>\n",
       "      <td>371528.00000</td>\n",
       "      <td>3.715280e+05</td>\n",
       "      <td>371528.000000</td>\n",
       "      <td>371528.000000</td>\n",
       "    </tr>\n",
       "    <tr>\n",
       "      <th>mean</th>\n",
       "      <td>1.729514e+04</td>\n",
       "      <td>2004.577997</td>\n",
       "      <td>115.549477</td>\n",
       "      <td>125618.688228</td>\n",
       "      <td>5.734445</td>\n",
       "      <td>50820.66764</td>\n",
       "      <td>7.420393e+05</td>\n",
       "      <td>2015.999917</td>\n",
       "      <td>3.160973</td>\n",
       "    </tr>\n",
       "    <tr>\n",
       "      <th>std</th>\n",
       "      <td>3.587954e+06</td>\n",
       "      <td>92.866598</td>\n",
       "      <td>192.139578</td>\n",
       "      <td>40112.337051</td>\n",
       "      <td>3.712412</td>\n",
       "      <td>25799.08247</td>\n",
       "      <td>7.208385e+05</td>\n",
       "      <td>0.009424</td>\n",
       "      <td>0.377478</td>\n",
       "    </tr>\n",
       "    <tr>\n",
       "      <th>min</th>\n",
       "      <td>0.000000e+00</td>\n",
       "      <td>1000.000000</td>\n",
       "      <td>0.000000</td>\n",
       "      <td>5000.000000</td>\n",
       "      <td>0.000000</td>\n",
       "      <td>1067.00000</td>\n",
       "      <td>-1.105658e+06</td>\n",
       "      <td>2014.000000</td>\n",
       "      <td>1.000000</td>\n",
       "    </tr>\n",
       "    <tr>\n",
       "      <th>25%</th>\n",
       "      <td>1.150000e+03</td>\n",
       "      <td>1999.000000</td>\n",
       "      <td>70.000000</td>\n",
       "      <td>125000.000000</td>\n",
       "      <td>3.000000</td>\n",
       "      <td>30459.00000</td>\n",
       "      <td>1.679178e+05</td>\n",
       "      <td>2016.000000</td>\n",
       "      <td>3.000000</td>\n",
       "    </tr>\n",
       "    <tr>\n",
       "      <th>50%</th>\n",
       "      <td>2.950000e+03</td>\n",
       "      <td>2003.000000</td>\n",
       "      <td>105.000000</td>\n",
       "      <td>150000.000000</td>\n",
       "      <td>6.000000</td>\n",
       "      <td>49610.00000</td>\n",
       "      <td>5.035755e+05</td>\n",
       "      <td>2016.000000</td>\n",
       "      <td>3.000000</td>\n",
       "    </tr>\n",
       "    <tr>\n",
       "      <th>75%</th>\n",
       "      <td>7.200000e+03</td>\n",
       "      <td>2008.000000</td>\n",
       "      <td>150.000000</td>\n",
       "      <td>150000.000000</td>\n",
       "      <td>9.000000</td>\n",
       "      <td>71546.00000</td>\n",
       "      <td>1.149768e+06</td>\n",
       "      <td>2016.000000</td>\n",
       "      <td>3.000000</td>\n",
       "    </tr>\n",
       "    <tr>\n",
       "      <th>max</th>\n",
       "      <td>2.147484e+09</td>\n",
       "      <td>9999.000000</td>\n",
       "      <td>20000.000000</td>\n",
       "      <td>150000.000000</td>\n",
       "      <td>12.000000</td>\n",
       "      <td>99998.00000</td>\n",
       "      <td>2.853834e+06</td>\n",
       "      <td>2016.000000</td>\n",
       "      <td>12.000000</td>\n",
       "    </tr>\n",
       "  </tbody>\n",
       "</table>\n",
       "</div>"
      ],
      "text/plain": [
       "              price  yearofregistration        powerps      kilometer  \\\n",
       "count  3.715280e+05       371528.000000  371528.000000  371528.000000   \n",
       "mean   1.729514e+04         2004.577997     115.549477  125618.688228   \n",
       "std    3.587954e+06           92.866598     192.139578   40112.337051   \n",
       "min    0.000000e+00         1000.000000       0.000000    5000.000000   \n",
       "25%    1.150000e+03         1999.000000      70.000000  125000.000000   \n",
       "50%    2.950000e+03         2003.000000     105.000000  150000.000000   \n",
       "75%    7.200000e+03         2008.000000     150.000000  150000.000000   \n",
       "max    2.147484e+09         9999.000000   20000.000000  150000.000000   \n",
       "\n",
       "       monthofregistration    postalcode   time_online  year_published  \\\n",
       "count        371528.000000  371528.00000  3.715280e+05   371528.000000   \n",
       "mean              5.734445   50820.66764  7.420393e+05     2015.999917   \n",
       "std               3.712412   25799.08247  7.208385e+05        0.009424   \n",
       "min               0.000000    1067.00000 -1.105658e+06     2014.000000   \n",
       "25%               3.000000   30459.00000  1.679178e+05     2016.000000   \n",
       "50%               6.000000   49610.00000  5.035755e+05     2016.000000   \n",
       "75%               9.000000   71546.00000  1.149768e+06     2016.000000   \n",
       "max              12.000000   99998.00000  2.853834e+06     2016.000000   \n",
       "\n",
       "       month_published  \n",
       "count    371528.000000  \n",
       "mean          3.160973  \n",
       "std           0.377478  \n",
       "min           1.000000  \n",
       "25%           3.000000  \n",
       "50%           3.000000  \n",
       "75%           3.000000  \n",
       "max          12.000000  "
      ]
     },
     "execution_count": 181,
     "metadata": {},
     "output_type": "execute_result"
    }
   ],
   "source": [
    "# Statistiques descriptives\n",
    "df.describe()"
   ]
  },
  {
   "cell_type": "markdown",
   "id": "9290dd81-4f5c-43fa-a9f3-b2c183418500",
   "metadata": {},
   "source": [
    "En observant ces statistiques (moyenne, variance, min et max), on constate que les variables suivantes ont des valeurs extrêmes : \n",
    "\n",
    "- price : avec des valeurs égales à 0 et d'autres trop élevé (2.147484e+09 pour le max)\n",
    "- yearofregistration : avec un min de 1000 et un max de 9999\n",
    "- powerps : avec un min de 0 et un max de 20000.\n",
    "- time_online : avec un min négatif\n",
    "\n",
    "Occupons nous de chacun de ces cas."
   ]
  },
  {
   "cell_type": "markdown",
   "id": "cec8972e-ddec-4dd1-bf75-7d9e58e3183c",
   "metadata": {},
   "source": [
    "#### Price"
   ]
  },
  {
   "cell_type": "markdown",
   "id": "8a140324-32d9-4a2a-a24f-2c74fd31da21",
   "metadata": {},
   "source": [
    "Les prix varient de 0 à 2.14 milliard d'euros. Cependant, après une recherche en ligne, on trouve que la voiture la plus chère vendu sur Ebay est de 3.2 millions (1959 Ferrari 250 GT California). De plus sachant que Ebay est un site aux enchères, on décide de maintenir les prix de ventes supérieur ou égale à 1 Euros.\n",
    "\n",
    "Calculons le pourcentage de données qui n'est pas dans cet intervalle."
   ]
  },
  {
   "cell_type": "code",
   "execution_count": 240,
   "id": "798e2f4e-397d-4b50-be4c-7abbcdfaa2a7",
   "metadata": {},
   "outputs": [
    {
     "data": {
      "text/plain": [
       "2.9155272280958635"
      ]
     },
     "execution_count": 240,
     "metadata": {},
     "output_type": "execute_result"
    }
   ],
   "source": [
    "len(data[(data['price']<1) | (data['price']>3.2e+6)])/len(data) * 100"
   ]
  },
  {
   "cell_type": "markdown",
   "id": "8174658e-4c5d-479e-acef-1c4ee786f9e9",
   "metadata": {},
   "source": [
    "Le pourcentage de données n'étant pas dans l'intervalle fixé est inférieur à 3%, ainsi on supprime les lignes avec un prix nul ou un prix supérieur à 3.2 millions."
   ]
  },
  {
   "cell_type": "code",
   "execution_count": null,
   "id": "89ce2504-3465-4a5c-a3ee-381e29690a94",
   "metadata": {},
   "outputs": [],
   "source": [
    "df = df[(df['price']>=1) & (df['price']<=3.2e+6)]"
   ]
  },
  {
   "cell_type": "markdown",
   "id": "cf2690bc-5c37-4bb2-a6ef-886c5e94b038",
   "metadata": {},
   "source": [
    "Cependant, après avoir implémenter nos moteurs de pricing, nous nous sommes rendus compte que les performances étaient mauvaises à cause de valeurs extêmes toujours présentes. Ainsi nous avons décidé de réduire le prix maximum à 150000 euros. Le pourcentage de valeurs à supprimer reste inférieur à 3%."
   ]
  },
  {
   "cell_type": "code",
   "execution_count": 342,
   "id": "0fd082e8-f454-4480-af28-793bf8e52b18",
   "metadata": {},
   "outputs": [
    {
     "data": {
      "text/plain": [
       "2.9634374798130962"
      ]
     },
     "execution_count": 342,
     "metadata": {},
     "output_type": "execute_result"
    }
   ],
   "source": [
    "len(data[(data['price']<1) | (data['price']>150000)])/len(data) * 100"
   ]
  },
  {
   "cell_type": "code",
   "execution_count": 351,
   "id": "147f0412-3a3b-4c10-a436-8235868056d3",
   "metadata": {},
   "outputs": [],
   "source": [
    "df = df[(df['price']>=1) & (df['price']<=150000)]"
   ]
  },
  {
   "cell_type": "markdown",
   "id": "15892c58-7dc8-4b8a-8590-bf045ee48b0d",
   "metadata": {},
   "source": [
    "#### Year of registration"
   ]
  },
  {
   "cell_type": "code",
   "execution_count": 276,
   "id": "6831615a-681b-415a-9593-ceba80275d52",
   "metadata": {},
   "outputs": [
    {
     "data": {
      "text/plain": [
       "1000    23\n",
       "1001     1\n",
       "1039     1\n",
       "1111     2\n",
       "1234     4\n",
       "1255     1\n",
       "1300     2\n",
       "1400     1\n",
       "1500     3\n",
       "1600     2\n",
       "1602     1\n",
       "1800     4\n",
       "1910    36\n",
       "1911     1\n",
       "1923     3\n",
       "1925     1\n",
       "1927     2\n",
       "1928     2\n",
       "1929     7\n",
       "1930     4\n",
       "Name: yearofregistration, dtype: int64"
      ]
     },
     "execution_count": 276,
     "metadata": {},
     "output_type": "execute_result"
    }
   ],
   "source": [
    "df['yearofregistration'].value_counts().sort_index(ascending=True).head(20)"
   ]
  },
  {
   "cell_type": "markdown",
   "id": "da35ae1d-b2b4-4a44-a6dc-977fb7268f37",
   "metadata": {},
   "source": [
    "Pour yearofregistration, nous considérons comme invalide des dates inférieur à 1910 ou supérieur à 2016. Cela premièrement parce que les données ont été récolté jusqu'dn 2016 et parce que la première voiture a été inventé en 1886. Dans notre dataset la première voiture enregistrée après 1886 a été enregistré en 1910."
   ]
  },
  {
   "cell_type": "code",
   "execution_count": 277,
   "id": "e42cf06c-1050-4e39-972f-524c759da419",
   "metadata": {},
   "outputs": [
    {
     "data": {
      "text/plain": [
       "3.9695527658749814"
      ]
     },
     "execution_count": 277,
     "metadata": {},
     "output_type": "execute_result"
    }
   ],
   "source": [
    "len(data[(data['yearofregistration']<1910) | (data['yearofregistration']>2016)])/len(data) * 100"
   ]
  },
  {
   "cell_type": "markdown",
   "id": "9b16d0bf-f4b1-4bec-98dd-41c273986f46",
   "metadata": {},
   "source": [
    "Le pourcentage de données n'étant pas dans l'intervalle fixé est inférieur à 4%, on supprime les lignes avec un yearofregistration inférieur à 1910 ou supérieur à 2016."
   ]
  },
  {
   "cell_type": "code",
   "execution_count": 352,
   "id": "40c9beb8-235e-4a8d-9cbe-3ed4dbf3bc97",
   "metadata": {},
   "outputs": [],
   "source": [
    "df = df[(df['yearofregistration']>=1910) & (df['yearofregistration']<=2016)]"
   ]
  },
  {
   "cell_type": "markdown",
   "id": "aa8e1209-45ab-4357-b1d5-8b5db07e3804",
   "metadata": {},
   "source": [
    "#### Powerps (chevaux)"
   ]
  },
  {
   "cell_type": "code",
   "execution_count": 187,
   "id": "526d33e9-6b56-4722-8703-869e588cd4ba",
   "metadata": {},
   "outputs": [
    {
     "data": {
      "text/plain": [
       "0     33410\n",
       "1        26\n",
       "2         9\n",
       "3         8\n",
       "4        30\n",
       "5       101\n",
       "6        11\n",
       "7        10\n",
       "8         7\n",
       "9         5\n",
       "10       13\n",
       "11       28\n",
       "12       19\n",
       "13        6\n",
       "14       20\n",
       "15       19\n",
       "16        7\n",
       "17        7\n",
       "18       53\n",
       "19       14\n",
       "Name: powerps, dtype: int64"
      ]
     },
     "execution_count": 187,
     "metadata": {},
     "output_type": "execute_result"
    }
   ],
   "source": [
    "df['powerps'].value_counts().sort_index(ascending=True).head(20)"
   ]
  },
  {
   "cell_type": "markdown",
   "id": "b920aea2-5fc8-4a22-9b9b-100e6548bbf4",
   "metadata": {},
   "source": [
    "Après une recherche en ligne, on trouve qu'en moyenne le nombre minimal de chevaux pour une voiture est de 50. Ainsi, on considère que les valeurs inférieurs à cela sont extrême, nous supprimons donc ces lignes."
   ]
  },
  {
   "cell_type": "code",
   "execution_count": 353,
   "id": "4a0137b4-6262-41c3-b341-63c045757eee",
   "metadata": {},
   "outputs": [],
   "source": [
    "df = df[df['powerps'] >= 50]"
   ]
  },
  {
   "cell_type": "markdown",
   "id": "a66a6da5-cfad-478d-9ace-8b2ea72440e3",
   "metadata": {},
   "source": [
    "De plus, après avoir effectué d'autres recherches en ligne, on trouve que la puissance en ps la plus élevé est de 2000ps (Lotus Evija)."
   ]
  },
  {
   "cell_type": "code",
   "execution_count": 157,
   "id": "89cdd365-bbd5-4a68-8547-a427327159e6",
   "metadata": {},
   "outputs": [
    {
     "name": "stdout",
     "output_type": "stream",
     "text": [
      "Le pourcentage de voiture avec un nombre de chevaux supérieur à 2000 est de :  0.030860814840879332\n"
     ]
    }
   ],
   "source": [
    "print('Le pourcentage de voiture avec un nombre de chevaux supérieur à 2000 est de : ', len(df[df['powerps']>2000])/len(df) * 100)"
   ]
  },
  {
   "cell_type": "markdown",
   "id": "ddf26767-b158-4392-b50d-5023b274ab98",
   "metadata": {},
   "source": [
    "Le pourcentage de voiture avec un nombre de chevaux supérieur à 2000 étant inférieur à 4%, nous supprimons les lignes avec un powerps inférieur à 2000."
   ]
  },
  {
   "cell_type": "code",
   "execution_count": 357,
   "id": "244a8a2b-0069-4f2d-b42c-6274301c78ef",
   "metadata": {},
   "outputs": [],
   "source": [
    "df = df[df['powerps'] <= 2000]"
   ]
  },
  {
   "cell_type": "markdown",
   "id": "cff80797-00b2-48b7-bf2a-b1c206dcf10a",
   "metadata": {},
   "source": [
    "Cependant, comme nous avons restreint le prix des voitures à 150000 euros, il est logique d'également restreindre le nombre de chevaux. On considère qu'un nombre de chevaux supérieur à 1000 pour une voiture à 150000 euros (max) est une valeur extrême. On restreint donc le nombre de chevaux à un maximum de 1000."
   ]
  },
  {
   "cell_type": "code",
   "execution_count": 361,
   "id": "be2d2aec-8506-40b6-b4be-877284282ee6",
   "metadata": {},
   "outputs": [],
   "source": [
    "df = df[df['powerps'] <= 1000]"
   ]
  },
  {
   "cell_type": "markdown",
   "id": "af41d4e3-4e95-4c15-b4b8-e09a359cab90",
   "metadata": {},
   "source": [
    "#### Temps en ligne"
   ]
  },
  {
   "cell_type": "code",
   "execution_count": 191,
   "id": "bcdb6304-0089-4b50-a9d8-5daec08c3566",
   "metadata": {},
   "outputs": [
    {
     "data": {
      "text/html": [
       "<div>\n",
       "<style scoped>\n",
       "    .dataframe tbody tr th:only-of-type {\n",
       "        vertical-align: middle;\n",
       "    }\n",
       "\n",
       "    .dataframe tbody tr th {\n",
       "        vertical-align: top;\n",
       "    }\n",
       "\n",
       "    .dataframe thead th {\n",
       "        text-align: right;\n",
       "    }\n",
       "</style>\n",
       "<table border=\"1\" class=\"dataframe\">\n",
       "  <thead>\n",
       "    <tr style=\"text-align: right;\">\n",
       "      <th></th>\n",
       "      <th>price</th>\n",
       "      <th>yearofregistration</th>\n",
       "      <th>powerps</th>\n",
       "      <th>kilometer</th>\n",
       "      <th>monthofregistration</th>\n",
       "      <th>postalcode</th>\n",
       "      <th>time_online</th>\n",
       "      <th>year_published</th>\n",
       "      <th>month_published</th>\n",
       "    </tr>\n",
       "  </thead>\n",
       "  <tbody>\n",
       "    <tr>\n",
       "      <th>count</th>\n",
       "      <td>3.129940e+05</td>\n",
       "      <td>312994.000000</td>\n",
       "      <td>312994.000000</td>\n",
       "      <td>312994.00000</td>\n",
       "      <td>312994.000000</td>\n",
       "      <td>312994.000000</td>\n",
       "      <td>3.129940e+05</td>\n",
       "      <td>312994.000000</td>\n",
       "      <td>312994.000000</td>\n",
       "    </tr>\n",
       "    <tr>\n",
       "      <th>mean</th>\n",
       "      <td>6.432960e+03</td>\n",
       "      <td>2003.146907</td>\n",
       "      <td>127.418081</td>\n",
       "      <td>125343.64876</td>\n",
       "      <td>6.004585</td>\n",
       "      <td>51562.517221</td>\n",
       "      <td>7.615588e+05</td>\n",
       "      <td>2015.999914</td>\n",
       "      <td>3.161863</td>\n",
       "    </tr>\n",
       "    <tr>\n",
       "      <th>std</th>\n",
       "      <td>1.498715e+04</td>\n",
       "      <td>6.881176</td>\n",
       "      <td>70.111128</td>\n",
       "      <td>39377.14307</td>\n",
       "      <td>3.572387</td>\n",
       "      <td>25793.803983</td>\n",
       "      <td>7.245999e+05</td>\n",
       "      <td>0.009287</td>\n",
       "      <td>0.379342</td>\n",
       "    </tr>\n",
       "    <tr>\n",
       "      <th>min</th>\n",
       "      <td>1.000000e+00</td>\n",
       "      <td>1910.000000</td>\n",
       "      <td>10.000000</td>\n",
       "      <td>5000.00000</td>\n",
       "      <td>0.000000</td>\n",
       "      <td>1067.000000</td>\n",
       "      <td>-1.105658e+06</td>\n",
       "      <td>2015.000000</td>\n",
       "      <td>1.000000</td>\n",
       "    </tr>\n",
       "    <tr>\n",
       "      <th>25%</th>\n",
       "      <td>1.400000e+03</td>\n",
       "      <td>1999.000000</td>\n",
       "      <td>80.000000</td>\n",
       "      <td>100000.00000</td>\n",
       "      <td>3.000000</td>\n",
       "      <td>31162.000000</td>\n",
       "      <td>1.742990e+05</td>\n",
       "      <td>2016.000000</td>\n",
       "      <td>3.000000</td>\n",
       "    </tr>\n",
       "    <tr>\n",
       "      <th>50%</th>\n",
       "      <td>3.500000e+03</td>\n",
       "      <td>2003.000000</td>\n",
       "      <td>116.000000</td>\n",
       "      <td>150000.00000</td>\n",
       "      <td>6.000000</td>\n",
       "      <td>50765.000000</td>\n",
       "      <td>5.163335e+05</td>\n",
       "      <td>2016.000000</td>\n",
       "      <td>3.000000</td>\n",
       "    </tr>\n",
       "    <tr>\n",
       "      <th>75%</th>\n",
       "      <td>7.999000e+03</td>\n",
       "      <td>2008.000000</td>\n",
       "      <td>150.000000</td>\n",
       "      <td>150000.00000</td>\n",
       "      <td>9.000000</td>\n",
       "      <td>72458.000000</td>\n",
       "      <td>1.180678e+06</td>\n",
       "      <td>2016.000000</td>\n",
       "      <td>3.000000</td>\n",
       "    </tr>\n",
       "    <tr>\n",
       "      <th>max</th>\n",
       "      <td>2.995000e+06</td>\n",
       "      <td>2016.000000</td>\n",
       "      <td>2000.000000</td>\n",
       "      <td>150000.00000</td>\n",
       "      <td>12.000000</td>\n",
       "      <td>99998.000000</td>\n",
       "      <td>2.853834e+06</td>\n",
       "      <td>2016.000000</td>\n",
       "      <td>12.000000</td>\n",
       "    </tr>\n",
       "  </tbody>\n",
       "</table>\n",
       "</div>"
      ],
      "text/plain": [
       "              price  yearofregistration        powerps     kilometer  \\\n",
       "count  3.129940e+05       312994.000000  312994.000000  312994.00000   \n",
       "mean   6.432960e+03         2003.146907     127.418081  125343.64876   \n",
       "std    1.498715e+04            6.881176      70.111128   39377.14307   \n",
       "min    1.000000e+00         1910.000000      10.000000    5000.00000   \n",
       "25%    1.400000e+03         1999.000000      80.000000  100000.00000   \n",
       "50%    3.500000e+03         2003.000000     116.000000  150000.00000   \n",
       "75%    7.999000e+03         2008.000000     150.000000  150000.00000   \n",
       "max    2.995000e+06         2016.000000    2000.000000  150000.00000   \n",
       "\n",
       "       monthofregistration     postalcode   time_online  year_published  \\\n",
       "count        312994.000000  312994.000000  3.129940e+05   312994.000000   \n",
       "mean              6.004585   51562.517221  7.615588e+05     2015.999914   \n",
       "std               3.572387   25793.803983  7.245999e+05        0.009287   \n",
       "min               0.000000    1067.000000 -1.105658e+06     2015.000000   \n",
       "25%               3.000000   31162.000000  1.742990e+05     2016.000000   \n",
       "50%               6.000000   50765.000000  5.163335e+05     2016.000000   \n",
       "75%               9.000000   72458.000000  1.180678e+06     2016.000000   \n",
       "max              12.000000   99998.000000  2.853834e+06     2016.000000   \n",
       "\n",
       "       month_published  \n",
       "count    312994.000000  \n",
       "mean          3.161863  \n",
       "std           0.379342  \n",
       "min           1.000000  \n",
       "25%           3.000000  \n",
       "50%           3.000000  \n",
       "75%           3.000000  \n",
       "max          12.000000  "
      ]
     },
     "execution_count": 191,
     "metadata": {},
     "output_type": "execute_result"
    }
   ],
   "source": [
    "df.describe()"
   ]
  },
  {
   "cell_type": "code",
   "execution_count": 281,
   "id": "b88b27cb-8c49-44b7-b0e9-a77ff07cc99e",
   "metadata": {},
   "outputs": [
    {
     "data": {
      "text/html": [
       "<div>\n",
       "<style scoped>\n",
       "    .dataframe tbody tr th:only-of-type {\n",
       "        vertical-align: middle;\n",
       "    }\n",
       "\n",
       "    .dataframe tbody tr th {\n",
       "        vertical-align: top;\n",
       "    }\n",
       "\n",
       "    .dataframe thead th {\n",
       "        text-align: right;\n",
       "    }\n",
       "</style>\n",
       "<table border=\"1\" class=\"dataframe\">\n",
       "  <thead>\n",
       "    <tr style=\"text-align: right;\">\n",
       "      <th></th>\n",
       "      <th>name</th>\n",
       "      <th>seller</th>\n",
       "      <th>offertype</th>\n",
       "      <th>price</th>\n",
       "      <th>abtest</th>\n",
       "      <th>vehicletype</th>\n",
       "      <th>yearofregistration</th>\n",
       "      <th>gearbox</th>\n",
       "      <th>powerps</th>\n",
       "      <th>model</th>\n",
       "      <th>kilometer</th>\n",
       "      <th>monthofregistration</th>\n",
       "      <th>fueltype</th>\n",
       "      <th>brand</th>\n",
       "      <th>notrepaireddamage</th>\n",
       "      <th>nrofpictures</th>\n",
       "      <th>postalcode</th>\n",
       "      <th>time_online</th>\n",
       "      <th>year_published</th>\n",
       "      <th>month_published</th>\n",
       "    </tr>\n",
       "  </thead>\n",
       "  <tbody>\n",
       "    <tr>\n",
       "      <th>142235</th>\n",
       "      <td>\"\"SUCHE_OPEL_VECTRA_B.\"SUCHE\",privat,Angebot,0...</td>\n",
       "      <td>Privé</td>\n",
       "      <td>Offre</td>\n",
       "      <td>4000</td>\n",
       "      <td>test</td>\n",
       "      <td>break</td>\n",
       "      <td>2006</td>\n",
       "      <td>manuelle</td>\n",
       "      <td>102</td>\n",
       "      <td>octavia</td>\n",
       "      <td>150000</td>\n",
       "      <td>10</td>\n",
       "      <td>ESSENCE</td>\n",
       "      <td>skoda</td>\n",
       "      <td>non</td>\n",
       "      <td>False</td>\n",
       "      <td>22159</td>\n",
       "      <td>-1105658.0</td>\n",
       "      <td>2016</td>\n",
       "      <td>3</td>\n",
       "    </tr>\n",
       "  </tbody>\n",
       "</table>\n",
       "</div>"
      ],
      "text/plain": [
       "                                                     name seller offertype  \\\n",
       "142235  \"\"SUCHE_OPEL_VECTRA_B.\"SUCHE\",privat,Angebot,0...  Privé     Offre   \n",
       "\n",
       "        price abtest vehicletype  yearofregistration   gearbox  powerps  \\\n",
       "142235   4000   test       break                2006  manuelle      102   \n",
       "\n",
       "          model  kilometer  monthofregistration fueltype  brand  \\\n",
       "142235  octavia     150000                   10  ESSENCE  skoda   \n",
       "\n",
       "       notrepaireddamage  nrofpictures  postalcode  time_online  \\\n",
       "142235               non         False       22159   -1105658.0   \n",
       "\n",
       "        year_published  month_published  \n",
       "142235            2016                3  "
      ]
     },
     "execution_count": 281,
     "metadata": {},
     "output_type": "execute_result"
    }
   ],
   "source": [
    "df[df['time_online']<0]"
   ]
  },
  {
   "cell_type": "markdown",
   "id": "1277784a-d43e-4eba-bc79-01ea28fa6001",
   "metadata": {},
   "source": [
    "Il n'y qu'une seule valeur avec un temps en ligne inférieur à 0. Nous supprimons donc cette ligne."
   ]
  },
  {
   "cell_type": "code",
   "execution_count": 329,
   "id": "74032325-0b91-47cc-914a-1d240f52c951",
   "metadata": {},
   "outputs": [],
   "source": [
    "df = df[df['time_online'] > 0]"
   ]
  },
  {
   "cell_type": "markdown",
   "id": "00ef7b23-21ff-4892-ba5c-ac1b3a8554d5",
   "metadata": {},
   "source": [
    "#### Normalisation des variables"
   ]
  },
  {
   "cell_type": "code",
   "execution_count": 162,
   "id": "0cfadf20-b418-4318-a21b-9ec7b22b8c61",
   "metadata": {},
   "outputs": [],
   "source": [
    "from sklearn.preprocessing import StandardScaler\n",
    "\n",
    "def standardize(df, continuous_features):\n",
    "    scaler = StandardScaler()\n",
    "    df[continuous_features] = scaler.fit_transform(df[continuous_features])\n",
    "    return df"
   ]
  },
  {
   "cell_type": "code",
   "execution_count": 163,
   "id": "aa334e78-9d7d-4ece-82b6-ca7c31cc9d1f",
   "metadata": {},
   "outputs": [],
   "source": [
    "# Normalisation des variables continues\n",
    "continuous_vars = ['yearofregistration', 'powerps', 'kilometer', 'monthofregistration', 'year_published', 'month_published', 'time_online', 'postalcode'] # target var (price) out\n",
    "\n",
    "df = standardize(df, continuous_vars)"
   ]
  },
  {
   "cell_type": "markdown",
   "id": "6a99e542-53f9-471e-9142-65840becf8f4",
   "metadata": {},
   "source": [
    "### Clusteriser les véhicules"
   ]
  },
  {
   "cell_type": "code",
   "execution_count": 231,
   "id": "18dd1395-2973-4b09-a417-34562f9a149d",
   "metadata": {},
   "outputs": [],
   "source": [
    "continuous_vars = ['price', 'yearofregistration', 'powerps', 'kilometer', 'monthofregistration', 'year_published', 'month_published', 'time_online', 'postalcode']\n",
    "categorical_vars = ['seller', 'offertype', 'vehicletype', 'gearbox', 'notrepaireddamage', 'fueltype', 'brand', 'model', 'name', 'abtest']"
   ]
  },
  {
   "cell_type": "markdown",
   "id": "99876368-b521-4e67-a878-580057b4c286",
   "metadata": {},
   "source": [
    "Avant de réaliser notre clustering, nous devons encoder nos variables catégorielles"
   ]
  },
  {
   "cell_type": "code",
   "execution_count": 363,
   "id": "cb9927dd-278c-4dc0-96e5-9cf7e69cf890",
   "metadata": {
    "collapsed": true,
    "jupyter": {
     "outputs_hidden": true
    },
    "tags": []
   },
   "outputs": [
    {
     "name": "stderr",
     "output_type": "stream",
     "text": [
      "/var/folders/pl/7mz3vdnd4lld0lpqrzbspj4h0000gn/T/ipykernel_10620/2395019374.py:17: SettingWithCopyWarning: \n",
      "A value is trying to be set on a copy of a slice from a DataFrame\n",
      "\n",
      "See the caveats in the documentation: https://pandas.pydata.org/pandas-docs/stable/user_guide/indexing.html#returning-a-view-versus-a-copy\n",
      "  data.loc[data.notnull()] = np.squeeze(impute_ordinal)\n",
      "/var/folders/pl/7mz3vdnd4lld0lpqrzbspj4h0000gn/T/ipykernel_10620/2395019374.py:17: SettingWithCopyWarning: \n",
      "A value is trying to be set on a copy of a slice from a DataFrame\n",
      "\n",
      "See the caveats in the documentation: https://pandas.pydata.org/pandas-docs/stable/user_guide/indexing.html#returning-a-view-versus-a-copy\n",
      "  data.loc[data.notnull()] = np.squeeze(impute_ordinal)\n",
      "/var/folders/pl/7mz3vdnd4lld0lpqrzbspj4h0000gn/T/ipykernel_10620/2395019374.py:17: SettingWithCopyWarning: \n",
      "A value is trying to be set on a copy of a slice from a DataFrame\n",
      "\n",
      "See the caveats in the documentation: https://pandas.pydata.org/pandas-docs/stable/user_guide/indexing.html#returning-a-view-versus-a-copy\n",
      "  data.loc[data.notnull()] = np.squeeze(impute_ordinal)\n",
      "/var/folders/pl/7mz3vdnd4lld0lpqrzbspj4h0000gn/T/ipykernel_10620/2395019374.py:17: SettingWithCopyWarning: \n",
      "A value is trying to be set on a copy of a slice from a DataFrame\n",
      "\n",
      "See the caveats in the documentation: https://pandas.pydata.org/pandas-docs/stable/user_guide/indexing.html#returning-a-view-versus-a-copy\n",
      "  data.loc[data.notnull()] = np.squeeze(impute_ordinal)\n",
      "/var/folders/pl/7mz3vdnd4lld0lpqrzbspj4h0000gn/T/ipykernel_10620/2395019374.py:17: SettingWithCopyWarning: \n",
      "A value is trying to be set on a copy of a slice from a DataFrame\n",
      "\n",
      "See the caveats in the documentation: https://pandas.pydata.org/pandas-docs/stable/user_guide/indexing.html#returning-a-view-versus-a-copy\n",
      "  data.loc[data.notnull()] = np.squeeze(impute_ordinal)\n",
      "/var/folders/pl/7mz3vdnd4lld0lpqrzbspj4h0000gn/T/ipykernel_10620/2395019374.py:17: SettingWithCopyWarning: \n",
      "A value is trying to be set on a copy of a slice from a DataFrame\n",
      "\n",
      "See the caveats in the documentation: https://pandas.pydata.org/pandas-docs/stable/user_guide/indexing.html#returning-a-view-versus-a-copy\n",
      "  data.loc[data.notnull()] = np.squeeze(impute_ordinal)\n",
      "/var/folders/pl/7mz3vdnd4lld0lpqrzbspj4h0000gn/T/ipykernel_10620/2395019374.py:17: SettingWithCopyWarning: \n",
      "A value is trying to be set on a copy of a slice from a DataFrame\n",
      "\n",
      "See the caveats in the documentation: https://pandas.pydata.org/pandas-docs/stable/user_guide/indexing.html#returning-a-view-versus-a-copy\n",
      "  data.loc[data.notnull()] = np.squeeze(impute_ordinal)\n",
      "/var/folders/pl/7mz3vdnd4lld0lpqrzbspj4h0000gn/T/ipykernel_10620/2395019374.py:17: SettingWithCopyWarning: \n",
      "A value is trying to be set on a copy of a slice from a DataFrame\n",
      "\n",
      "See the caveats in the documentation: https://pandas.pydata.org/pandas-docs/stable/user_guide/indexing.html#returning-a-view-versus-a-copy\n",
      "  data.loc[data.notnull()] = np.squeeze(impute_ordinal)\n",
      "/var/folders/pl/7mz3vdnd4lld0lpqrzbspj4h0000gn/T/ipykernel_10620/2395019374.py:17: SettingWithCopyWarning: \n",
      "A value is trying to be set on a copy of a slice from a DataFrame\n",
      "\n",
      "See the caveats in the documentation: https://pandas.pydata.org/pandas-docs/stable/user_guide/indexing.html#returning-a-view-versus-a-copy\n",
      "  data.loc[data.notnull()] = np.squeeze(impute_ordinal)\n",
      "/var/folders/pl/7mz3vdnd4lld0lpqrzbspj4h0000gn/T/ipykernel_10620/2395019374.py:17: SettingWithCopyWarning: \n",
      "A value is trying to be set on a copy of a slice from a DataFrame\n",
      "\n",
      "See the caveats in the documentation: https://pandas.pydata.org/pandas-docs/stable/user_guide/indexing.html#returning-a-view-versus-a-copy\n",
      "  data.loc[data.notnull()] = np.squeeze(impute_ordinal)\n",
      "/var/folders/pl/7mz3vdnd4lld0lpqrzbspj4h0000gn/T/ipykernel_10620/2395019374.py:17: SettingWithCopyWarning: \n",
      "A value is trying to be set on a copy of a slice from a DataFrame\n",
      "\n",
      "See the caveats in the documentation: https://pandas.pydata.org/pandas-docs/stable/user_guide/indexing.html#returning-a-view-versus-a-copy\n",
      "  data.loc[data.notnull()] = np.squeeze(impute_ordinal)\n"
     ]
    }
   ],
   "source": [
    "from fancyimpute import KNN\n",
    "from sklearn.preprocessing import OrdinalEncoder\n",
    "\n",
    "encoder = OrdinalEncoder()\n",
    "\n",
    "categorical_vars = ['seller', 'offertype', 'vehicletype', 'gearbox', 'notrepaireddamage', 'fueltype', 'brand', 'nrofpictures', 'model', 'name', 'abtest']\n",
    "\n",
    "def encode(data):\n",
    "    '''Fonction pour encoder les variables catégorielles'''\n",
    "    # on selectionne uniquement les valeurs non nulles\n",
    "    nonulls = np.array(data.dropna())\n",
    "    # modification des dimensions pour l'encodage\n",
    "    impute_reshape = nonulls.reshape(-1,1)\n",
    "    \n",
    "    impute_ordinal = encoder.fit_transform(impute_reshape)\n",
    "    # Ajout des nouvelles valeurs encodés à la place des anciennes catégorielles\n",
    "    data.loc[data.notnull()] = np.squeeze(impute_ordinal)\n",
    "    return data\n",
    "\n",
    "df_encoded = df.copy()\n",
    "\n",
    "for columns in categorical_vars:\n",
    "    encode(df_encoded[columns])"
   ]
  },
  {
   "cell_type": "code",
   "execution_count": 165,
   "id": "a43595a2-33de-4497-bed4-a50fd46b82dd",
   "metadata": {},
   "outputs": [
    {
     "data": {
      "text/html": [
       "<div>\n",
       "<style scoped>\n",
       "    .dataframe tbody tr th:only-of-type {\n",
       "        vertical-align: middle;\n",
       "    }\n",
       "\n",
       "    .dataframe tbody tr th {\n",
       "        vertical-align: top;\n",
       "    }\n",
       "\n",
       "    .dataframe thead th {\n",
       "        text-align: right;\n",
       "    }\n",
       "</style>\n",
       "<table border=\"1\" class=\"dataframe\">\n",
       "  <thead>\n",
       "    <tr style=\"text-align: right;\">\n",
       "      <th></th>\n",
       "      <th>name</th>\n",
       "      <th>seller</th>\n",
       "      <th>offertype</th>\n",
       "      <th>price</th>\n",
       "      <th>abtest</th>\n",
       "      <th>vehicletype</th>\n",
       "      <th>yearofregistration</th>\n",
       "      <th>gearbox</th>\n",
       "      <th>powerps</th>\n",
       "      <th>model</th>\n",
       "      <th>kilometer</th>\n",
       "      <th>monthofregistration</th>\n",
       "      <th>fueltype</th>\n",
       "      <th>brand</th>\n",
       "      <th>notrepaireddamage</th>\n",
       "      <th>nrofpictures</th>\n",
       "      <th>postalcode</th>\n",
       "      <th>time_online</th>\n",
       "      <th>year_published</th>\n",
       "      <th>month_published</th>\n",
       "    </tr>\n",
       "  </thead>\n",
       "  <tbody>\n",
       "    <tr>\n",
       "      <th>0</th>\n",
       "      <td>67157.0</td>\n",
       "      <td>0.0</td>\n",
       "      <td>0.0</td>\n",
       "      <td>480</td>\n",
       "      <td>1.0</td>\n",
       "      <td>3.0</td>\n",
       "      <td>-1.357753</td>\n",
       "      <td>1.0</td>\n",
       "      <td>-0.502748</td>\n",
       "      <td>118.0</td>\n",
       "      <td>0.626076</td>\n",
       "      <td>-1.592060</td>\n",
       "      <td>2.0</td>\n",
       "      <td>38.0</td>\n",
       "      <td>0.0</td>\n",
       "      <td>0.0</td>\n",
       "      <td>0.740415</td>\n",
       "      <td>0.483374</td>\n",
       "      <td>0.009655</td>\n",
       "      <td>-0.404672</td>\n",
       "    </tr>\n",
       "    <tr>\n",
       "      <th>1</th>\n",
       "      <td>3159.0</td>\n",
       "      <td>0.0</td>\n",
       "      <td>0.0</td>\n",
       "      <td>18300</td>\n",
       "      <td>1.0</td>\n",
       "      <td>1.0</td>\n",
       "      <td>1.105230</td>\n",
       "      <td>1.0</td>\n",
       "      <td>0.871753</td>\n",
       "      <td>118.0</td>\n",
       "      <td>0.004942</td>\n",
       "      <td>-0.225886</td>\n",
       "      <td>1.0</td>\n",
       "      <td>1.0</td>\n",
       "      <td>1.0</td>\n",
       "      <td>0.0</td>\n",
       "      <td>0.605334</td>\n",
       "      <td>0.480308</td>\n",
       "      <td>0.009655</td>\n",
       "      <td>-0.404672</td>\n",
       "    </tr>\n",
       "    <tr>\n",
       "      <th>2</th>\n",
       "      <td>76290.0</td>\n",
       "      <td>0.0</td>\n",
       "      <td>0.0</td>\n",
       "      <td>9800</td>\n",
       "      <td>1.0</td>\n",
       "      <td>2.0</td>\n",
       "      <td>0.147403</td>\n",
       "      <td>0.0</td>\n",
       "      <td>0.413586</td>\n",
       "      <td>119.0</td>\n",
       "      <td>0.004942</td>\n",
       "      <td>0.593818</td>\n",
       "      <td>1.0</td>\n",
       "      <td>14.0</td>\n",
       "      <td>0.0</td>\n",
       "      <td>0.0</td>\n",
       "      <td>1.518268</td>\n",
       "      <td>1.491703</td>\n",
       "      <td>0.009655</td>\n",
       "      <td>-0.404672</td>\n",
       "    </tr>\n",
       "    <tr>\n",
       "      <th>3</th>\n",
       "      <td>65158.0</td>\n",
       "      <td>0.0</td>\n",
       "      <td>0.0</td>\n",
       "      <td>1500</td>\n",
       "      <td>1.0</td>\n",
       "      <td>6.0</td>\n",
       "      <td>-0.263094</td>\n",
       "      <td>1.0</td>\n",
       "      <td>-0.502748</td>\n",
       "      <td>118.0</td>\n",
       "      <td>0.626076</td>\n",
       "      <td>0.047349</td>\n",
       "      <td>2.0</td>\n",
       "      <td>38.0</td>\n",
       "      <td>0.0</td>\n",
       "      <td>0.0</td>\n",
       "      <td>1.541318</td>\n",
       "      <td>-1.159222</td>\n",
       "      <td>0.009655</td>\n",
       "      <td>-0.404672</td>\n",
       "    </tr>\n",
       "    <tr>\n",
       "      <th>4</th>\n",
       "      <td>143944.0</td>\n",
       "      <td>0.0</td>\n",
       "      <td>0.0</td>\n",
       "      <td>3600</td>\n",
       "      <td>1.0</td>\n",
       "      <td>6.0</td>\n",
       "      <td>0.694732</td>\n",
       "      <td>1.0</td>\n",
       "      <td>-0.502748</td>\n",
       "      <td>103.0</td>\n",
       "      <td>-0.864645</td>\n",
       "      <td>0.320583</td>\n",
       "      <td>1.0</td>\n",
       "      <td>31.0</td>\n",
       "      <td>0.0</td>\n",
       "      <td>0.0</td>\n",
       "      <td>0.352439</td>\n",
       "      <td>-0.474826</td>\n",
       "      <td>0.009655</td>\n",
       "      <td>-0.404672</td>\n",
       "    </tr>\n",
       "  </tbody>\n",
       "</table>\n",
       "</div>"
      ],
      "text/plain": [
       "       name seller offertype  price abtest vehicletype  yearofregistration  \\\n",
       "0   67157.0    0.0       0.0    480    1.0         3.0           -1.357753   \n",
       "1    3159.0    0.0       0.0  18300    1.0         1.0            1.105230   \n",
       "2   76290.0    0.0       0.0   9800    1.0         2.0            0.147403   \n",
       "3   65158.0    0.0       0.0   1500    1.0         6.0           -0.263094   \n",
       "4  143944.0    0.0       0.0   3600    1.0         6.0            0.694732   \n",
       "\n",
       "  gearbox   powerps  model  kilometer  monthofregistration fueltype brand  \\\n",
       "0     1.0 -0.502748  118.0   0.626076            -1.592060      2.0  38.0   \n",
       "1     1.0  0.871753  118.0   0.004942            -0.225886      1.0   1.0   \n",
       "2     0.0  0.413586  119.0   0.004942             0.593818      1.0  14.0   \n",
       "3     1.0 -0.502748  118.0   0.626076             0.047349      2.0  38.0   \n",
       "4     1.0 -0.502748  103.0  -0.864645             0.320583      1.0  31.0   \n",
       "\n",
       "  notrepaireddamage nrofpictures  postalcode  time_online  year_published  \\\n",
       "0               0.0          0.0    0.740415     0.483374        0.009655   \n",
       "1               1.0          0.0    0.605334     0.480308        0.009655   \n",
       "2               0.0          0.0    1.518268     1.491703        0.009655   \n",
       "3               0.0          0.0    1.541318    -1.159222        0.009655   \n",
       "4               0.0          0.0    0.352439    -0.474826        0.009655   \n",
       "\n",
       "   month_published  \n",
       "0        -0.404672  \n",
       "1        -0.404672  \n",
       "2        -0.404672  \n",
       "3        -0.404672  \n",
       "4        -0.404672  "
      ]
     },
     "execution_count": 165,
     "metadata": {},
     "output_type": "execute_result"
    }
   ],
   "source": [
    "df_encoded.head()"
   ]
  },
  {
   "cell_type": "markdown",
   "id": "8419b159-0082-4df3-bc95-59c07fd0997c",
   "metadata": {},
   "source": [
    "Nous allons utiliser l'algorithme K-means pour clusteriser les véhicules"
   ]
  },
  {
   "cell_type": "code",
   "execution_count": 378,
   "id": "3f301357-9bdb-47f6-bff8-8c09b4e1cf4f",
   "metadata": {},
   "outputs": [
    {
     "name": "stderr",
     "output_type": "stream",
     "text": [
      "/Users/hamza/opt/anaconda3/envs/adaexam/lib/python3.9/site-packages/sklearn/cluster/_kmeans.py:870: FutureWarning: The default value of `n_init` will change from 10 to 'auto' in 1.4. Set the value of `n_init` explicitly to suppress the warning\n",
      "  warnings.warn(\n",
      "/Users/hamza/opt/anaconda3/envs/adaexam/lib/python3.9/site-packages/sklearn/cluster/_kmeans.py:870: FutureWarning: The default value of `n_init` will change from 10 to 'auto' in 1.4. Set the value of `n_init` explicitly to suppress the warning\n",
      "  warnings.warn(\n",
      "/Users/hamza/opt/anaconda3/envs/adaexam/lib/python3.9/site-packages/sklearn/cluster/_kmeans.py:870: FutureWarning: The default value of `n_init` will change from 10 to 'auto' in 1.4. Set the value of `n_init` explicitly to suppress the warning\n",
      "  warnings.warn(\n",
      "/Users/hamza/opt/anaconda3/envs/adaexam/lib/python3.9/site-packages/sklearn/cluster/_kmeans.py:870: FutureWarning: The default value of `n_init` will change from 10 to 'auto' in 1.4. Set the value of `n_init` explicitly to suppress the warning\n",
      "  warnings.warn(\n",
      "/Users/hamza/opt/anaconda3/envs/adaexam/lib/python3.9/site-packages/sklearn/cluster/_kmeans.py:870: FutureWarning: The default value of `n_init` will change from 10 to 'auto' in 1.4. Set the value of `n_init` explicitly to suppress the warning\n",
      "  warnings.warn(\n",
      "/Users/hamza/opt/anaconda3/envs/adaexam/lib/python3.9/site-packages/sklearn/cluster/_kmeans.py:870: FutureWarning: The default value of `n_init` will change from 10 to 'auto' in 1.4. Set the value of `n_init` explicitly to suppress the warning\n",
      "  warnings.warn(\n",
      "/Users/hamza/opt/anaconda3/envs/adaexam/lib/python3.9/site-packages/sklearn/cluster/_kmeans.py:870: FutureWarning: The default value of `n_init` will change from 10 to 'auto' in 1.4. Set the value of `n_init` explicitly to suppress the warning\n",
      "  warnings.warn(\n",
      "/Users/hamza/opt/anaconda3/envs/adaexam/lib/python3.9/site-packages/sklearn/cluster/_kmeans.py:870: FutureWarning: The default value of `n_init` will change from 10 to 'auto' in 1.4. Set the value of `n_init` explicitly to suppress the warning\n",
      "  warnings.warn(\n",
      "/Users/hamza/opt/anaconda3/envs/adaexam/lib/python3.9/site-packages/sklearn/cluster/_kmeans.py:870: FutureWarning: The default value of `n_init` will change from 10 to 'auto' in 1.4. Set the value of `n_init` explicitly to suppress the warning\n",
      "  warnings.warn(\n"
     ]
    },
    {
     "data": {
      "image/png": "[encoded data removed]",
      "text/plain": [
       "<Figure size 800x600 with 1 Axes>"
      ]
     },
     "metadata": {},
     "output_type": "display_data"
    }
   ],
   "source": [
    "# Nous commençons par chercher quelle est la valeur optimale de k pour l'algorithme k-means, avec la méthode de l'elbow\n",
    "k_values = range(1, 10)\n",
    "\n",
    "df_elbow = df_encoded.copy()\n",
    "\n",
    "# Initialisation d'une liste pour contenir les variances expliquées\n",
    "explained_variances = []\n",
    "\n",
    "# Itération sur les différentes valeurs de k\n",
    "for k in k_values:\n",
    "    kmeans = KMeans(n_clusters=k, random_state=0)\n",
    "    kmeans.fit(df_elbow)\n",
    "    \n",
    "    explained_variances.append(kmeans.inertia_)\n",
    "\n",
    "# Plot the explained variances against the number of clusters\n",
    "# Visualisation des variances expliqués en fonction du nombre de clusters\n",
    "plt.figure(figsize=(8, 6))\n",
    "plt.plot(k_values, explained_variances, marker='o', linestyle='-')\n",
    "plt.xlabel('Nombre de clusters (k)')\n",
    "plt.ylabel('Variance expliquée')\n",
    "plt.title('Méthode elbow pour le k optimal')\n",
    "plt.grid(True)\n",
    "plt.show()"
   ]
  },
  {
   "cell_type": "markdown",
   "id": "9a87c6ea-ce61-474a-aa53-ff989075aa43",
   "metadata": {},
   "source": [
    "En observant le graphique, on déduit que la valeur optimale de k est 3."
   ]
  },
  {
   "cell_type": "code",
   "execution_count": 382,
   "id": "ad40e32e-98cb-4beb-98fd-1e4ccf3874a3",
   "metadata": {},
   "outputs": [
    {
     "name": "stderr",
     "output_type": "stream",
     "text": [
      "/Users/hamza/opt/anaconda3/envs/adaexam/lib/python3.9/site-packages/sklearn/cluster/_kmeans.py:870: FutureWarning: The default value of `n_init` will change from 10 to 'auto' in 1.4. Set the value of `n_init` explicitly to suppress the warning\n",
      "  warnings.warn(\n"
     ]
    }
   ],
   "source": [
    "from sklearn.cluster import KMeans\n",
    "\n",
    "kmeans_data = df_encoded.copy()\n",
    "kmeans_data = standardize(kmeans_data, continuous_vars)\n",
    "\n",
    "k = 3\n",
    "\n",
    "# K-means clustering\n",
    "kmeans = KMeans(n_clusters=k, random_state=0)\n",
    "kmeans_data['cluster'] = kmeans.fit_predict(kmeans_data)\n",
    "\n",
    "# Exploration des différent clusters\n",
    "cluster_centers = pd.DataFrame(kmeans.cluster_centers_, columns=kmeans_data.columns[:-1])\n",
    "cluster_centers['cluster'] = range(k)\n",
    "cluster_centers.set_index('cluster', inplace=True)\n",
    "\n",
    "# Taille des clusters\n",
    "cluster_sizes = kmeans_data['cluster'].value_counts()"
   ]
  },
  {
   "cell_type": "code",
   "execution_count": 383,
   "id": "85888d3a-ced6-4527-80d0-e384602c2c95",
   "metadata": {},
   "outputs": [
    {
     "data": {
      "text/plain": [
       "2    105225\n",
       "0    104206\n",
       "1     97908\n",
       "Name: cluster, dtype: int64"
      ]
     },
     "execution_count": 383,
     "metadata": {},
     "output_type": "execute_result"
    }
   ],
   "source": [
    "cluster_sizes"
   ]
  },
  {
   "cell_type": "code",
   "execution_count": 384,
   "id": "4e50a549-2894-4bcf-be1c-88d7c9075289",
   "metadata": {},
   "outputs": [
    {
     "name": "stdout",
     "output_type": "stream",
     "text": [
      "Cluster 1 Center:\n",
      "name: 95737.94\n",
      "price: -0.00\n",
      "vehicletype: 3.56\n",
      "yearofregistration: -0.06\n",
      "gearbox: 0.76\n",
      "powerps: 0.00\n",
      "model: 96.70\n",
      "kilometer: -0.02\n",
      "monthofregistration: -0.01\n",
      "fueltype: 1.75\n",
      "brand: 22.95\n",
      "notrepaireddamage: 0.10\n",
      "postalcode: -0.02\n",
      "time_online: -0.01\n",
      "year_published: 0.00\n",
      "month_published: 0.00\n",
      "\n",
      "\n",
      "Cluster 2 Center:\n",
      "name: 157959.94\n",
      "price: -0.11\n",
      "vehicletype: 3.60\n",
      "yearofregistration: 0.03\n",
      "gearbox: 0.84\n",
      "powerps: -0.32\n",
      "model: 141.66\n",
      "kilometer: -0.02\n",
      "monthofregistration: -0.00\n",
      "fueltype: 1.69\n",
      "brand: 33.33\n",
      "notrepaireddamage: 0.09\n",
      "postalcode: -0.07\n",
      "time_online: -0.01\n",
      "year_published: -0.00\n",
      "month_published: 0.00\n",
      "\n",
      "\n",
      "Cluster 3 Center:\n",
      "name: 31105.64\n",
      "price: 0.11\n",
      "vehicletype: 3.53\n",
      "yearofregistration: 0.03\n",
      "gearbox: 0.74\n",
      "powerps: 0.29\n",
      "model: 66.24\n",
      "kilometer: 0.04\n",
      "monthofregistration: 0.01\n",
      "fueltype: 1.67\n",
      "brand: 5.64\n",
      "notrepaireddamage: 0.09\n",
      "postalcode: 0.08\n",
      "time_online: 0.02\n",
      "year_published: 0.00\n",
      "month_published: -0.00\n",
      "\n",
      "\n"
     ]
    }
   ],
   "source": [
    "# Calcul du centre des clusters\n",
    "cluster_centers = kmeans.cluster_centers_\n",
    "\n",
    "cluster_centers_df = pd.DataFrame(cluster_centers, columns=kmeans_data.columns[:-1])\n",
    "\n",
    "# Itération sur chaque centre de cluster, pour analyser leurs valeurs\n",
    "for cluster_num, center_values in enumerate(cluster_centers):\n",
    "    print(f\"Cluster {cluster_num + 1} Center:\")\n",
    "    for feature, value in zip(kmeans_data.columns[:-1], center_values):\n",
    "        print(f\"{feature}: {value:.2f}\")\n",
    "    print(\"\\n\")"
   ]
  },
  {
   "cell_type": "markdown",
   "id": "c726a628-1ef1-4b71-b2ef-20a65abc6a16",
   "metadata": {},
   "source": [
    "En observant les centres de chaque cluster, on trouve 4 champs nous permettant de catégoriser les profils : Le prix (price), l'année d'immatriculation (yearofregistration), le nombre de chevaux (powerps), ainsi que le kilometrage (kilometer).  \n",
    "\n",
    "- Le premier cluster contient les voitures à prix moyens, ni trop chères, ni très abordable. Ce dernier contient également les voitures les plus anciennes mais aussi celles avec des dommages non-réparés.\n",
    "- Le second cluster contient les voitures les moins chères, avec le plus petit nombre de chevaux.\n",
    "- Le troisième cluster contient les voitures les plus chères, les plus récentes, avec le plus grand nombre de chevaux et le plus de kilometrage."
   ]
  },
  {
   "cell_type": "markdown",
   "id": "7bf47954-382d-4129-9d90-20500f1c0f2c",
   "metadata": {},
   "source": [
    "### Données corrélées avec le prix"
   ]
  },
  {
   "cell_type": "code",
   "execution_count": 166,
   "id": "1cbbe104-786a-46d8-99d9-63b2d92b876f",
   "metadata": {},
   "outputs": [
    {
     "data": {
      "text/html": [
       "<div>\n",
       "<style scoped>\n",
       "    .dataframe tbody tr th:only-of-type {\n",
       "        vertical-align: middle;\n",
       "    }\n",
       "\n",
       "    .dataframe tbody tr th {\n",
       "        vertical-align: top;\n",
       "    }\n",
       "\n",
       "    .dataframe thead th {\n",
       "        text-align: right;\n",
       "    }\n",
       "</style>\n",
       "<table border=\"1\" class=\"dataframe\">\n",
       "  <thead>\n",
       "    <tr style=\"text-align: right;\">\n",
       "      <th></th>\n",
       "      <th>name</th>\n",
       "      <th>seller</th>\n",
       "      <th>offertype</th>\n",
       "      <th>price</th>\n",
       "      <th>abtest</th>\n",
       "      <th>vehicletype</th>\n",
       "      <th>yearofregistration</th>\n",
       "      <th>gearbox</th>\n",
       "      <th>powerps</th>\n",
       "      <th>model</th>\n",
       "      <th>kilometer</th>\n",
       "      <th>monthofregistration</th>\n",
       "      <th>fueltype</th>\n",
       "      <th>brand</th>\n",
       "      <th>notrepaireddamage</th>\n",
       "      <th>nrofpictures</th>\n",
       "      <th>postalcode</th>\n",
       "      <th>time_online</th>\n",
       "      <th>year_published</th>\n",
       "      <th>month_published</th>\n",
       "    </tr>\n",
       "  </thead>\n",
       "  <tbody>\n",
       "    <tr>\n",
       "      <th>0</th>\n",
       "      <td>67157.0</td>\n",
       "      <td>0.0</td>\n",
       "      <td>0.0</td>\n",
       "      <td>480</td>\n",
       "      <td>1.0</td>\n",
       "      <td>3.0</td>\n",
       "      <td>-1.357753</td>\n",
       "      <td>1.0</td>\n",
       "      <td>-0.502748</td>\n",
       "      <td>118.0</td>\n",
       "      <td>0.626076</td>\n",
       "      <td>-1.592060</td>\n",
       "      <td>2.0</td>\n",
       "      <td>38.0</td>\n",
       "      <td>0.0</td>\n",
       "      <td>0.0</td>\n",
       "      <td>0.740415</td>\n",
       "      <td>0.483374</td>\n",
       "      <td>0.009655</td>\n",
       "      <td>-0.404672</td>\n",
       "    </tr>\n",
       "    <tr>\n",
       "      <th>1</th>\n",
       "      <td>3159.0</td>\n",
       "      <td>0.0</td>\n",
       "      <td>0.0</td>\n",
       "      <td>18300</td>\n",
       "      <td>1.0</td>\n",
       "      <td>1.0</td>\n",
       "      <td>1.105230</td>\n",
       "      <td>1.0</td>\n",
       "      <td>0.871753</td>\n",
       "      <td>118.0</td>\n",
       "      <td>0.004942</td>\n",
       "      <td>-0.225886</td>\n",
       "      <td>1.0</td>\n",
       "      <td>1.0</td>\n",
       "      <td>1.0</td>\n",
       "      <td>0.0</td>\n",
       "      <td>0.605334</td>\n",
       "      <td>0.480308</td>\n",
       "      <td>0.009655</td>\n",
       "      <td>-0.404672</td>\n",
       "    </tr>\n",
       "    <tr>\n",
       "      <th>2</th>\n",
       "      <td>76290.0</td>\n",
       "      <td>0.0</td>\n",
       "      <td>0.0</td>\n",
       "      <td>9800</td>\n",
       "      <td>1.0</td>\n",
       "      <td>2.0</td>\n",
       "      <td>0.147403</td>\n",
       "      <td>0.0</td>\n",
       "      <td>0.413586</td>\n",
       "      <td>119.0</td>\n",
       "      <td>0.004942</td>\n",
       "      <td>0.593818</td>\n",
       "      <td>1.0</td>\n",
       "      <td>14.0</td>\n",
       "      <td>0.0</td>\n",
       "      <td>0.0</td>\n",
       "      <td>1.518268</td>\n",
       "      <td>1.491703</td>\n",
       "      <td>0.009655</td>\n",
       "      <td>-0.404672</td>\n",
       "    </tr>\n",
       "    <tr>\n",
       "      <th>3</th>\n",
       "      <td>65158.0</td>\n",
       "      <td>0.0</td>\n",
       "      <td>0.0</td>\n",
       "      <td>1500</td>\n",
       "      <td>1.0</td>\n",
       "      <td>6.0</td>\n",
       "      <td>-0.263094</td>\n",
       "      <td>1.0</td>\n",
       "      <td>-0.502748</td>\n",
       "      <td>118.0</td>\n",
       "      <td>0.626076</td>\n",
       "      <td>0.047349</td>\n",
       "      <td>2.0</td>\n",
       "      <td>38.0</td>\n",
       "      <td>0.0</td>\n",
       "      <td>0.0</td>\n",
       "      <td>1.541318</td>\n",
       "      <td>-1.159222</td>\n",
       "      <td>0.009655</td>\n",
       "      <td>-0.404672</td>\n",
       "    </tr>\n",
       "    <tr>\n",
       "      <th>4</th>\n",
       "      <td>143944.0</td>\n",
       "      <td>0.0</td>\n",
       "      <td>0.0</td>\n",
       "      <td>3600</td>\n",
       "      <td>1.0</td>\n",
       "      <td>6.0</td>\n",
       "      <td>0.694732</td>\n",
       "      <td>1.0</td>\n",
       "      <td>-0.502748</td>\n",
       "      <td>103.0</td>\n",
       "      <td>-0.864645</td>\n",
       "      <td>0.320583</td>\n",
       "      <td>1.0</td>\n",
       "      <td>31.0</td>\n",
       "      <td>0.0</td>\n",
       "      <td>0.0</td>\n",
       "      <td>0.352439</td>\n",
       "      <td>-0.474826</td>\n",
       "      <td>0.009655</td>\n",
       "      <td>-0.404672</td>\n",
       "    </tr>\n",
       "  </tbody>\n",
       "</table>\n",
       "</div>"
      ],
      "text/plain": [
       "       name seller offertype  price abtest vehicletype  yearofregistration  \\\n",
       "0   67157.0    0.0       0.0    480    1.0         3.0           -1.357753   \n",
       "1    3159.0    0.0       0.0  18300    1.0         1.0            1.105230   \n",
       "2   76290.0    0.0       0.0   9800    1.0         2.0            0.147403   \n",
       "3   65158.0    0.0       0.0   1500    1.0         6.0           -0.263094   \n",
       "4  143944.0    0.0       0.0   3600    1.0         6.0            0.694732   \n",
       "\n",
       "  gearbox   powerps  model  kilometer  monthofregistration fueltype brand  \\\n",
       "0     1.0 -0.502748  118.0   0.626076            -1.592060      2.0  38.0   \n",
       "1     1.0  0.871753  118.0   0.004942            -0.225886      1.0   1.0   \n",
       "2     0.0  0.413586  119.0   0.004942             0.593818      1.0  14.0   \n",
       "3     1.0 -0.502748  118.0   0.626076             0.047349      2.0  38.0   \n",
       "4     1.0 -0.502748  103.0  -0.864645             0.320583      1.0  31.0   \n",
       "\n",
       "  notrepaireddamage nrofpictures  postalcode  time_online  year_published  \\\n",
       "0               0.0          0.0    0.740415     0.483374        0.009655   \n",
       "1               1.0          0.0    0.605334     0.480308        0.009655   \n",
       "2               0.0          0.0    1.518268     1.491703        0.009655   \n",
       "3               0.0          0.0    1.541318    -1.159222        0.009655   \n",
       "4               0.0          0.0    0.352439    -0.474826        0.009655   \n",
       "\n",
       "   month_published  \n",
       "0        -0.404672  \n",
       "1        -0.404672  \n",
       "2        -0.404672  \n",
       "3        -0.404672  \n",
       "4        -0.404672  "
      ]
     },
     "execution_count": 166,
     "metadata": {},
     "output_type": "execute_result"
    }
   ],
   "source": [
    "df_encoded.head()"
   ]
  },
  {
   "cell_type": "code",
   "execution_count": 364,
   "id": "ebd11ed4-a621-420b-b911-108264a3aa94",
   "metadata": {},
   "outputs": [],
   "source": [
    "# Même si les champs catégorielles ont été encodés, ils ont gardé le type object.\n",
    "# On modifie donc le type vers float\n",
    "for feature in categorical_vars:\n",
    "    df_encoded[feature] = df_encoded[feature].astype(float)"
   ]
  },
  {
   "cell_type": "code",
   "execution_count": 168,
   "id": "13e2d72f-1c63-4a53-89c2-b0ab64bb29de",
   "metadata": {},
   "outputs": [
    {
     "name": "stdout",
     "output_type": "stream",
     "text": [
      "<class 'pandas.core.frame.DataFrame'>\n",
      "Int64Index: 312431 entries, 0 to 371527\n",
      "Data columns (total 20 columns):\n",
      " #   Column               Non-Null Count   Dtype  \n",
      "---  ------               --------------   -----  \n",
      " 0   name                 312431 non-null  float64\n",
      " 1   seller               312431 non-null  float64\n",
      " 2   offertype            312431 non-null  float64\n",
      " 3   price                312431 non-null  int64  \n",
      " 4   abtest               312431 non-null  float64\n",
      " 5   vehicletype          312431 non-null  float64\n",
      " 6   yearofregistration   312431 non-null  float64\n",
      " 7   gearbox              312431 non-null  float64\n",
      " 8   powerps              312431 non-null  float64\n",
      " 9   model                312431 non-null  float64\n",
      " 10  kilometer            312431 non-null  float64\n",
      " 11  monthofregistration  312431 non-null  float64\n",
      " 12  fueltype             312431 non-null  float64\n",
      " 13  brand                312431 non-null  float64\n",
      " 14  notrepaireddamage    312431 non-null  float64\n",
      " 15  nrofpictures         312431 non-null  float64\n",
      " 16  postalcode           312431 non-null  float64\n",
      " 17  time_online          312431 non-null  float64\n",
      " 18  year_published       312431 non-null  float64\n",
      " 19  month_published      312431 non-null  float64\n",
      "dtypes: float64(19), int64(1)\n",
      "memory usage: 50.1 MB\n"
     ]
    }
   ],
   "source": [
    "df_encoded.info()"
   ]
  },
  {
   "cell_type": "code",
   "execution_count": 367,
   "id": "ad865812-36f5-4973-9d46-004b4824a2c4",
   "metadata": {},
   "outputs": [
    {
     "data": {
      "image/png": "[encoded data removed]",
      "text/plain": [
       "<Figure size 1000x800 with 2 Axes>"
      ]
     },
     "metadata": {},
     "output_type": "display_data"
    }
   ],
   "source": [
    "# Matrice de corrélation\n",
    "correlation_matrix = df_encoded.drop(columns=['nrofpictures']).corr()\n",
    "\n",
    "# Heatmap de la matrice de corrélation\n",
    "plt.figure(figsize=(10, 8))\n",
    "sns.heatmap(correlation_matrix, annot=True, cmap='coolwarm', fmt=\".2f\", linewidths=0.5)\n",
    "plt.title('Correlation Matrix Heatmap')\n",
    "plt.show()"
   ]
  },
  {
   "cell_type": "code",
   "execution_count": 368,
   "id": "b9a1cd8d-b1e0-4b4b-89d0-78987c0bfc74",
   "metadata": {},
   "outputs": [
    {
     "name": "stdout",
     "output_type": "stream",
     "text": [
      "price                  1.000000\n",
      "powerps                0.576799\n",
      "kilometer              0.446075\n",
      "yearofregistration     0.387858\n",
      "gearbox                0.307790\n",
      "fueltype               0.199977\n",
      "vehicletype            0.178215\n",
      "notrepaireddamage      0.152403\n",
      "time_online            0.129234\n",
      "brand                  0.100582\n",
      "name                   0.098961\n",
      "postalcode             0.072984\n",
      "monthofregistration    0.043806\n",
      "month_published        0.015663\n",
      "model                  0.009844\n",
      "year_published         0.004724\n",
      "abtest                 0.001640\n",
      "offertype              0.001633\n",
      "seller                 0.000128\n",
      "Name: price, dtype: float64\n"
     ]
    }
   ],
   "source": [
    "# Extraction des valeurs de corrélation entre le prix et les autres variables\n",
    "correlation_with_target = correlation_matrix['price']\n",
    "\n",
    "sorted_correlation = correlation_with_target.abs().sort_values(ascending=False)\n",
    "\n",
    "print(sorted_correlation)"
   ]
  },
  {
   "cell_type": "markdown",
   "id": "c71d2394-7573-40c2-9655-d23d8d4b6b84",
   "metadata": {},
   "source": [
    "En observant les valeurs des corrélations, on déduit que : \n",
    "\n",
    "- Les variables powerps, kilometer, yearofreistration et gearbox sont modéremment corrélés positivement au prix.\n",
    "- Les variables vehicletype, fueltype, notrepaireddammage, time_online et brand ont une faible corrélation positive au prix.\n",
    "- Les autres variables ont des corélations trop faibles avec le prix."
   ]
  },
  {
   "cell_type": "markdown",
   "id": "4e2ead82-ab47-4945-bdc1-006b8527dd63",
   "metadata": {},
   "source": [
    "### Variables catégorielles"
   ]
  },
  {
   "cell_type": "markdown",
   "id": "802391da-9c58-4f02-97ca-2ae6d88650b2",
   "metadata": {},
   "source": [
    "Concernant les champs catégorielles, nous les avons encodés avec un encodage one-hot. Cela pour pouvoir les utiliser dans les modèles de regression, mais aussi pour le clustering et la matrice de corrélation"
   ]
  },
  {
   "cell_type": "markdown",
   "id": "18c99b78-056b-4e8a-aa79-b60b9ebc24c9",
   "metadata": {},
   "source": [
    "### Réduction du nombres de variables"
   ]
  },
  {
   "cell_type": "code",
   "execution_count": 370,
   "id": "a689b943-2a43-40d8-87d4-02d74f2eacb3",
   "metadata": {},
   "outputs": [
    {
     "data": {
      "text/plain": [
       "array([0.])"
      ]
     },
     "execution_count": 370,
     "metadata": {},
     "output_type": "execute_result"
    }
   ],
   "source": [
    "# Variable nrofpictures\n",
    "df_encoded['nrofpictures'].unique()"
   ]
  },
  {
   "cell_type": "markdown",
   "id": "f3b86b07-d1fe-4590-a478-d2f42906013c",
   "metadata": {},
   "source": [
    "La variable nrofpictures ne contient qu'une seule valeur, il ne sert donc à rien de la garder et nous pouvons la supprimer"
   ]
  },
  {
   "cell_type": "code",
   "execution_count": 371,
   "id": "4212b771-2be9-4d9b-b3f5-610d4160143e",
   "metadata": {},
   "outputs": [],
   "source": [
    "df_encoded.drop(columns=['nrofpictures'], inplace=True)"
   ]
  },
  {
   "cell_type": "code",
   "execution_count": 91,
   "id": "f3e1b8a5-3510-4d9f-bd7f-e74534c3f639",
   "metadata": {},
   "outputs": [
    {
     "data": {
      "text/plain": [
       "<AxesSubplot: >"
      ]
     },
     "execution_count": 91,
     "metadata": {},
     "output_type": "execute_result"
    },
    {
     "data": {
      "image/png": "[encoded data removed]",
      "text/plain": [
       "<Figure size 640x480 with 1 Axes>"
      ]
     },
     "metadata": {},
     "output_type": "display_data"
    }
   ],
   "source": [
    "# Variable seller\n",
    "data['seller'].hist()"
   ]
  },
  {
   "cell_type": "code",
   "execution_count": 92,
   "id": "5d34ee7a-a90f-4704-9509-ad3c50fca959",
   "metadata": {},
   "outputs": [
    {
     "data": {
      "text/plain": [
       "array(['Privé', 'commercial'], dtype=object)"
      ]
     },
     "execution_count": 92,
     "metadata": {},
     "output_type": "execute_result"
    }
   ],
   "source": [
    "data['seller'].unique()"
   ]
  },
  {
   "cell_type": "code",
   "execution_count": 102,
   "id": "c7cbc1c4-d481-4c98-856a-cbdf24a6aa0b",
   "metadata": {
    "tags": []
   },
   "outputs": [
    {
     "name": "stdout",
     "output_type": "stream",
     "text": [
      "Pourcentage de 'Privé' pour la variable seller :  0.0009602120148128708\n"
     ]
    }
   ],
   "source": [
    "print('Pourcentage de \\'Privé\\' pour la variable seller : ', len(df_encoded['seller'][df_encoded['seller']==1])/len(df_encoded)*100)"
   ]
  },
  {
   "cell_type": "markdown",
   "id": "38b0e3d5-4a82-4643-a808-13f35b71c6ed",
   "metadata": {},
   "source": [
    "On observe que la variable seller contient majoritairement la valeur 'Privé', avec seulement 0.0009% pour la valeur 'commercial'. Nous pouvons donc égalament la supprimer"
   ]
  },
  {
   "cell_type": "code",
   "execution_count": 372,
   "id": "3a8b7f41-ff72-4af8-882c-40408b143e80",
   "metadata": {},
   "outputs": [],
   "source": [
    "df_encoded.drop(columns=['seller'], inplace=True)"
   ]
  },
  {
   "cell_type": "code",
   "execution_count": 96,
   "id": "ae7fb8d7-bea3-47dd-927b-d5855dbc2620",
   "metadata": {},
   "outputs": [
    {
     "data": {
      "text/plain": [
       "<AxesSubplot: >"
      ]
     },
     "execution_count": 96,
     "metadata": {},
     "output_type": "execute_result"
    },
    {
     "data": {
      "image/png": "[encoded data removed]",
      "text/plain": [
       "<Figure size 640x480 with 1 Axes>"
      ]
     },
     "metadata": {},
     "output_type": "display_data"
    }
   ],
   "source": [
    "data['offertype'].hist()"
   ]
  },
  {
   "cell_type": "code",
   "execution_count": 103,
   "id": "e530b5f2-8f09-4350-b97a-b576b51d8603",
   "metadata": {},
   "outputs": [
    {
     "name": "stdout",
     "output_type": "stream",
     "text": [
      "Pourcentage d'Offre' pour la variable offertype :  0.001600353358021451\n"
     ]
    }
   ],
   "source": [
    "print('Pourcentage d\\'Offre\\' pour la variable offertype : ', len(df_encoded['offertype'][df_encoded['offertype']==1])/len(df_encoded)*100)"
   ]
  },
  {
   "cell_type": "markdown",
   "id": "904ff62e-ef5d-4654-8d1e-3b1e91df62d3",
   "metadata": {},
   "source": [
    "Encore une fois, on observe que la variable offertype contient majoritairement la valeur 'Offre', avec seulement 0.001% de 'demande'. Nous pouvons donc égalament la supprimer"
   ]
  },
  {
   "cell_type": "code",
   "execution_count": 373,
   "id": "0c940db6-ac58-4452-959d-b465a162791e",
   "metadata": {},
   "outputs": [],
   "source": [
    "df_encoded.drop(columns=['offertype'], inplace=True)"
   ]
  },
  {
   "cell_type": "markdown",
   "id": "e2d7f20c-c2d8-4670-9422-141cb4affc94",
   "metadata": {},
   "source": [
    "La variable abtest correspond à un test statistique surlequel nous n'avons aucune information. De plus à travers la matrice de corrélation, on observe que la corrélation entre abtest et le prix est presque nulle (0.001640). On peut ainsi supprimer cette variable."
   ]
  },
  {
   "cell_type": "code",
   "execution_count": 374,
   "id": "e3282acb-6fd9-49d7-9132-e404c8510547",
   "metadata": {},
   "outputs": [],
   "source": [
    "df_encoded.drop(columns=['abtest'], inplace=True)"
   ]
  },
  {
   "cell_type": "markdown",
   "id": "881d2eac-c2ff-4431-a538-a8836007256b",
   "metadata": {},
   "source": [
    "### Variables importantes lors du pricing"
   ]
  },
  {
   "cell_type": "markdown",
   "id": "50894961-c199-42b1-bed2-1cf34e8e54a5",
   "metadata": {},
   "source": [
    "Il y a différentes méthodes pour determiner quelles sont les variables importantes lors du pricing. Nous pouvons utiliser la corrélation entre les features et le prix, mais il est plus intéressant d'observer l'importnace des features après avoir entraîner des modèles de regression sur les données."
   ]
  },
  {
   "cell_type": "markdown",
   "id": "28d822f1-407d-45f3-82a4-bf470ad89dbe",
   "metadata": {},
   "source": [
    "Ainsi pour determiner les variables importantes pour le prédiction du prix (avant d'implémenter le moteur de pricing), nous allons faire une regression linéaire sur le prix et analyser les coefficients "
   ]
  },
  {
   "cell_type": "code",
   "execution_count": 375,
   "id": "c87c52be-75c4-4dd1-b0c4-2ac3641f8682",
   "metadata": {},
   "outputs": [
    {
     "name": "stdout",
     "output_type": "stream",
     "text": [
      "Coefficients:\n",
      "brand                    50.208106\n",
      "fueltype              -2036.683403\n",
      "gearbox                -525.778964\n",
      "kilometer                -0.080015\n",
      "model                     1.863081\n",
      "month_published         632.694684\n",
      "monthofregistration       5.238052\n",
      "name                     -0.005680\n",
      "notrepaireddamage     -1854.158488\n",
      "postalcode                0.007812\n",
      "powerps                  68.965334\n",
      "time_online               0.000642\n",
      "vehicletype             -36.791647\n",
      "year_published         3097.816182\n",
      "yearofregistration      148.265918\n",
      "dtype: float64\n"
     ]
    }
   ],
   "source": [
    "from sklearn.linear_model import LinearRegression\n",
    "\n",
    "X = df_encoded[df_encoded.columns.difference(['price'])]\n",
    "y = df_encoded['price']\n",
    "\n",
    "model = LinearRegression()\n",
    "\n",
    "model.fit(X, y)\n",
    "\n",
    "# Obtention des coefficients pour chaque champ\n",
    "coefficients = pd.Series(model.coef_, index=df_encoded.columns.difference(['price']))\n",
    "\n",
    "print(\"Coefficients:\")\n",
    "print(coefficients)"
   ]
  },
  {
   "cell_type": "markdown",
   "id": "673f9cbd-8b80-4781-8015-e43061b7fd47",
   "metadata": {},
   "source": [
    "En analysant ces coefficients, on peut déduire que les variables importantes lors du pricing sont (dans le cas de la regression linéaire) : \n",
    "- powerps, fueltype, kilometer, notrepareddamage, year_published, gearbox, month_published  "
   ]
  },
  {
   "cell_type": "markdown",
   "id": "e31e3609-8340-406e-9897-8c4e83fcff34",
   "metadata": {},
   "source": [
    "Nous allons plus approfondir cet aspect après l'implémentation du moteur de pricing"
   ]
  },
  {
   "cell_type": "markdown",
   "id": "c90444ad-1d9c-4454-b553-c9607e6259ee",
   "metadata": {},
   "source": [
    "### Autres axes à considérer ?"
   ]
  },
  {
   "cell_type": "markdown",
   "id": "816d69e9-3678-4bd8-ae6c-72cd2f8bb234",
   "metadata": {},
   "source": [
    "Un autre axe que nous avons considéré au cours de notre étude est le *Feature Engineering*. En effet precedemment, nous avons utiliser les variables datecrawled, lastseen et datecreated pour créer de nouvelles variables.\n",
    "\n",
    "- La première étant le temps que l'annonce est restée visible en ligne avant que la voiture ne soit achetée. Cela en soustrayant datecrawled à lastseen\n",
    "- La seconde étant le mois ainsi que l'année de publication de l'offre, à travers datecreated"
   ]
  },
  {
   "cell_type": "markdown",
   "id": "eeb119ec-7edc-4c2c-9d8d-d8eb73ff69b8",
   "metadata": {},
   "source": [
    "### Moteur de Pricing"
   ]
  },
  {
   "cell_type": "code",
   "execution_count": 171,
   "id": "67cd11fe-56af-4161-909b-de4349d75180",
   "metadata": {},
   "outputs": [],
   "source": [
    "from sklearn.ensemble import RandomForestRegressor\n",
    "from xgboost import XGBRegressor\n",
    "from sklearn.ensemble import  GradientBoostingRegressor\n",
    "\n",
    "from sklearn.metrics import mean_squared_error, mean_absolute_error,  r2_score\n",
    "from sklearn.model_selection import train_test_split\n",
    "from sklearn.model_selection import cross_val_score"
   ]
  },
  {
   "cell_type": "code",
   "execution_count": 172,
   "id": "b3cfbab0-6077-429c-9971-8fd96fda05ae",
   "metadata": {},
   "outputs": [],
   "source": [
    "model_data = df_encoded.copy()"
   ]
  },
  {
   "cell_type": "code",
   "execution_count": 389,
   "id": "1121713e-709a-4de1-8377-0512eafb4ca5",
   "metadata": {},
   "outputs": [],
   "source": [
    "# Train/Test split : 80%-20%\n",
    "\n",
    "X = df_encoded[df_encoded.columns.difference(['price'])]\n",
    "Y = df_encoded['price']\n",
    "\n",
    "X_train, X_test, Y_train, Y_test = train_test_split(X, Y, random_state=42, test_size=0.2)"
   ]
  },
  {
   "cell_type": "markdown",
   "id": "f962ce7f-5569-4ee2-934b-72b853990fc8",
   "metadata": {},
   "source": [
    "Pour le moteur de pricing nous allons utiliser 3 modèles : \n",
    "\n",
    "- Random Forest\n",
    "- XGBoost\n",
    "- Gradient boosting"
   ]
  },
  {
   "cell_type": "markdown",
   "id": "938d1e64-0ab0-45dd-bf7a-679cbdbc1513",
   "metadata": {},
   "source": [
    "#### Random Forest"
   ]
  },
  {
   "cell_type": "code",
   "execution_count": 390,
   "id": "e39ccfdf-9c48-4ce6-b87a-f8ec9e816f2c",
   "metadata": {},
   "outputs": [
    {
     "name": "stdout",
     "output_type": "stream",
     "text": [
      "R2_score: 88.01397062896443\n",
      "mean_squared_error: 8215525.755794209\n",
      "mean_absolute_error: 1207.2861693755358\n",
      "root_mean_squared_error: 2866.2738452203425\n"
     ]
    }
   ],
   "source": [
    "RFR = RandomForestRegressor()\n",
    "\n",
    "RFR.fit(X_train, Y_train)\n",
    "\n",
    "pred = RFR.predict(X_test)\n",
    "\n",
    "R2_score = r2_score(Y_test,pred)*100\n",
    "\n",
    "print('R2_score:', R2_score)\n",
    "print('mean_squared_error:', mean_squared_error(Y_test,pred))\n",
    "print('mean_absolute_error:', mean_absolute_error(Y_test,pred))\n",
    "print('root_mean_squared_error:', np.sqrt(mean_squared_error(Y_test,pred)))"
   ]
  },
  {
   "cell_type": "markdown",
   "id": "246abf00-7e3e-4b1b-bb7e-fb24bb72d94f",
   "metadata": {},
   "source": [
    "#### XGB Regressor"
   ]
  },
  {
   "cell_type": "code",
   "execution_count": 377,
   "id": "992408f3-812d-4cc2-a30a-a03161c18c38",
   "metadata": {},
   "outputs": [
    {
     "name": "stdout",
     "output_type": "stream",
     "text": [
      "R2_score: 87.70314398580801\n",
      "mean_squared_error: 8428574.148501258\n",
      "mean_absolute_error: 1327.0715061110413\n",
      "root_mean_squared_error: 2903.200673136678\n"
     ]
    }
   ],
   "source": [
    "XGB = XGBRegressor()\n",
    "\n",
    "XGB.fit(X_train, Y_train)\n",
    "\n",
    "pred = XGB.predict(X_test)\n",
    "\n",
    "R2_score = r2_score(Y_test,pred)*100\n",
    "\n",
    "print('R2_score:', R2_score)\n",
    "print('mean_squared_error:', mean_squared_error(Y_test,pred))\n",
    "print('mean_absolute_error:', mean_absolute_error(Y_test,pred))\n",
    "print('root_mean_squared_error:', np.sqrt(mean_squared_error(Y_test,pred)))"
   ]
  },
  {
   "cell_type": "markdown",
   "id": "a141f44f-f878-4fee-a54a-192b5d090952",
   "metadata": {},
   "source": [
    "#### Gradient boosting regressor"
   ]
  },
  {
   "cell_type": "code",
   "execution_count": 396,
   "id": "d1febcbe-5849-4b1a-b59a-3269f1168fc3",
   "metadata": {},
   "outputs": [
    {
     "name": "stdout",
     "output_type": "stream",
     "text": [
      "R2_score: 80.1559051142988\n",
      "mean_squared_error: 13601641.343201283\n",
      "mean_absolute_error: 1707.0815463136257\n",
      "root_mean_squared_error: 3688.040312035822\n"
     ]
    }
   ],
   "source": [
    "GBR = GradientBoostingRegressor()\n",
    "\n",
    "GBR.fit(X_train, Y_train)\n",
    "\n",
    "pred = GBR.predict(X_test)\n",
    "\n",
    "R2_score = r2_score(Y_test,pred)*100\n",
    "\n",
    "print('R2_score:',R2_score)\n",
    "print('mean_squared_error:', mean_squared_error(Y_test,pred))\n",
    "print('mean_absolute_error:', mean_absolute_error(Y_test,pred))\n",
    "print('root_mean_squared_error:', np.sqrt(mean_squared_error(Y_test,pred)))"
   ]
  },
  {
   "cell_type": "markdown",
   "id": "2c243a2a-ec38-46ab-a95a-639a17caf408",
   "metadata": {},
   "source": [
    "#### Variables importantes après prediction"
   ]
  },
  {
   "cell_type": "markdown",
   "id": "1d47841a-1a72-42f1-be37-07dc273b9995",
   "metadata": {},
   "source": [
    "Nous nous basons sur les résultats de RandomForest pour étudier les variables importantes, étant l'algorithme avec le meilleure score r2."
   ]
  },
  {
   "cell_type": "code",
   "execution_count": 395,
   "id": "78145121-917e-4a72-adbe-3d70bcca1c5c",
   "metadata": {},
   "outputs": [
    {
     "data": {
      "image/png": "[encoded data removed]",
      "text/plain": [
       "<Figure size 1000x600 with 1 Axes>"
      ]
     },
     "metadata": {},
     "output_type": "display_data"
    }
   ],
   "source": [
    "feature_names = X_train.columns\n",
    "\n",
    "feature_importances = RFR.feature_importances_\n",
    "sorted_idx = feature_importances.argsort()\n",
    "\n",
    "plt.figure(figsize=(10, 6))\n",
    "plt.barh(range(len(sorted_idx)), feature_importances[sorted_idx], align=\"center\")\n",
    "plt.yticks(range(len(sorted_idx)), [feature_names[i] for i in sorted_idx])\n",
    "plt.xlabel(\"Importance des variables\")\n",
    "plt.title(\"Random Forest Feature Importances\")\n",
    "plt.show()"
   ]
  }
 ],
 "metadata": {
  "kernelspec": {
   "display_name": "Python [conda env:adaexam]",
   "language": "python",
   "name": "conda-env-adaexam-py"
  },
  "language_info": {
   "codemirror_mode": {
    "name": "ipython",
    "version": 3
   },
   "file_extension": ".py",
   "mimetype": "text/x-python",
   "name": "python",
   "nbconvert_exporter": "python",
   "pygments_lexer": "ipython3",
   "version": "3.9.7"
  }
 },
 "nbformat": 4,
 "nbformat_minor": 5
}
